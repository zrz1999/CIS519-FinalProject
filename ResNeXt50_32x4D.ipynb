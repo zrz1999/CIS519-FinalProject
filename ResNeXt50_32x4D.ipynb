{
 "cells": [
  {
   "cell_type": "code",
   "execution_count": 1,
   "metadata": {
    "colab": {
     "background_save": true
    },
    "id": "6fFCaIdZl-ts",
    "tags": []
   },
   "outputs": [],
   "source": [
    "# Some imports that you might need\n",
    "import numpy as np\n",
    "import pandas as pd\n",
    "import seaborn as sns\n",
    "import matplotlib.pyplot as plt\n",
    "import plotly.express as px\n",
    "import plotly.graph_objs as go\n",
    "\n",
    "import os\n",
    "from sklearn.model_selection import StratifiedKFold\n",
    "from sklearn.model_selection import train_test_split\n",
    "import torch \n",
    "from torchvision.datasets.utils import download_url\n",
    "import torchvision as tv\n",
    "import torchvision.transforms as T\n",
    "import torch.nn as nn\n",
    "import torch.nn.functional as F\n",
    "from PIL import Image\n",
    "from torch.utils.data import Dataset, DataLoader, IterableDataset"
   ]
  },
  {
   "cell_type": "code",
   "execution_count": 2,
   "metadata": {
    "colab": {
     "base_uri": "https://localhost:8080/"
    },
    "id": "sgG3i-6DSuqR",
    "outputId": "57faafdc-990d-4ee7-cb01-854ae8d99e68",
    "tags": []
   },
   "outputs": [
    {
     "name": "stdout",
     "output_type": "stream",
     "text": [
      "Looking in indexes: https://pypi.org/simple, https://pip.repos.neuron.amazonaws.com\n",
      "Requirement already satisfied: albumentations in /home/ec2-user/anaconda3/envs/pytorch_p39/lib/python3.9/site-packages (1.3.0)\n",
      "Requirement already satisfied: PyYAML in /home/ec2-user/anaconda3/envs/pytorch_p39/lib/python3.9/site-packages (from albumentations) (5.4.1)\n",
      "Requirement already satisfied: opencv-python-headless>=4.1.1 in /home/ec2-user/anaconda3/envs/pytorch_p39/lib/python3.9/site-packages (from albumentations) (4.7.0.72)\n",
      "Requirement already satisfied: scikit-image>=0.16.1 in /home/ec2-user/anaconda3/envs/pytorch_p39/lib/python3.9/site-packages (from albumentations) (0.19.3)\n",
      "Requirement already satisfied: qudida>=0.0.4 in /home/ec2-user/anaconda3/envs/pytorch_p39/lib/python3.9/site-packages (from albumentations) (0.0.4)\n",
      "Requirement already satisfied: numpy>=1.11.1 in /home/ec2-user/anaconda3/envs/pytorch_p39/lib/python3.9/site-packages (from albumentations) (1.23.5)\n",
      "Requirement already satisfied: scipy in /home/ec2-user/anaconda3/envs/pytorch_p39/lib/python3.9/site-packages (from albumentations) (1.8.1)\n",
      "Requirement already satisfied: scikit-learn>=0.19.1 in /home/ec2-user/anaconda3/envs/pytorch_p39/lib/python3.9/site-packages (from qudida>=0.0.4->albumentations) (1.0)\n",
      "Requirement already satisfied: typing-extensions in /home/ec2-user/anaconda3/envs/pytorch_p39/lib/python3.9/site-packages (from qudida>=0.0.4->albumentations) (4.4.0)\n",
      "Requirement already satisfied: PyWavelets>=1.1.1 in /home/ec2-user/anaconda3/envs/pytorch_p39/lib/python3.9/site-packages (from scikit-image>=0.16.1->albumentations) (1.4.1)\n",
      "Requirement already satisfied: tifffile>=2019.7.26 in /home/ec2-user/anaconda3/envs/pytorch_p39/lib/python3.9/site-packages (from scikit-image>=0.16.1->albumentations) (2022.10.10)\n",
      "Requirement already satisfied: pillow!=7.1.0,!=7.1.1,!=8.3.0,>=6.1.0 in /home/ec2-user/anaconda3/envs/pytorch_p39/lib/python3.9/site-packages (from scikit-image>=0.16.1->albumentations) (9.2.0)\n",
      "Requirement already satisfied: packaging>=20.0 in /home/ec2-user/anaconda3/envs/pytorch_p39/lib/python3.9/site-packages (from scikit-image>=0.16.1->albumentations) (21.3)\n",
      "Requirement already satisfied: networkx>=2.2 in /home/ec2-user/anaconda3/envs/pytorch_p39/lib/python3.9/site-packages (from scikit-image>=0.16.1->albumentations) (3.0)\n",
      "Requirement already satisfied: imageio>=2.4.1 in /home/ec2-user/anaconda3/envs/pytorch_p39/lib/python3.9/site-packages (from scikit-image>=0.16.1->albumentations) (2.16.2)\n",
      "Requirement already satisfied: pyparsing!=3.0.5,>=2.0.2 in /home/ec2-user/anaconda3/envs/pytorch_p39/lib/python3.9/site-packages (from packaging>=20.0->scikit-image>=0.16.1->albumentations) (3.0.9)\n",
      "Requirement already satisfied: threadpoolctl>=2.0.0 in /home/ec2-user/anaconda3/envs/pytorch_p39/lib/python3.9/site-packages (from scikit-learn>=0.19.1->qudida>=0.0.4->albumentations) (3.1.0)\n",
      "Requirement already satisfied: joblib>=0.11 in /home/ec2-user/anaconda3/envs/pytorch_p39/lib/python3.9/site-packages (from scikit-learn>=0.19.1->qudida>=0.0.4->albumentations) (1.2.0)\n",
      "Looking in indexes: https://pypi.org/simple, https://pip.repos.neuron.amazonaws.com\n",
      "Requirement already satisfied: timm in /home/ec2-user/anaconda3/envs/pytorch_p39/lib/python3.9/site-packages (0.6.13)\n",
      "Requirement already satisfied: torch>=1.7 in /home/ec2-user/anaconda3/envs/pytorch_p39/lib/python3.9/site-packages (from timm) (1.13.1)\n",
      "Requirement already satisfied: torchvision in /home/ec2-user/anaconda3/envs/pytorch_p39/lib/python3.9/site-packages (from timm) (0.14.1)\n",
      "Requirement already satisfied: huggingface-hub in /home/ec2-user/anaconda3/envs/pytorch_p39/lib/python3.9/site-packages (from timm) (0.14.1)\n",
      "Requirement already satisfied: pyyaml in /home/ec2-user/anaconda3/envs/pytorch_p39/lib/python3.9/site-packages (from timm) (5.4.1)\n",
      "Requirement already satisfied: typing_extensions in /home/ec2-user/anaconda3/envs/pytorch_p39/lib/python3.9/site-packages (from torch>=1.7->timm) (4.4.0)\n",
      "Requirement already satisfied: filelock in /home/ec2-user/anaconda3/envs/pytorch_p39/lib/python3.9/site-packages (from huggingface-hub->timm) (3.6.0)\n",
      "Requirement already satisfied: packaging>=20.9 in /home/ec2-user/anaconda3/envs/pytorch_p39/lib/python3.9/site-packages (from huggingface-hub->timm) (21.3)\n",
      "Requirement already satisfied: fsspec in /home/ec2-user/anaconda3/envs/pytorch_p39/lib/python3.9/site-packages (from huggingface-hub->timm) (2022.11.0)\n",
      "Requirement already satisfied: tqdm>=4.42.1 in /home/ec2-user/anaconda3/envs/pytorch_p39/lib/python3.9/site-packages (from huggingface-hub->timm) (4.63.2)\n",
      "Requirement already satisfied: requests in /home/ec2-user/anaconda3/envs/pytorch_p39/lib/python3.9/site-packages (from huggingface-hub->timm) (2.28.1)\n",
      "Requirement already satisfied: numpy in /home/ec2-user/anaconda3/envs/pytorch_p39/lib/python3.9/site-packages (from torchvision->timm) (1.23.5)\n",
      "Requirement already satisfied: pillow!=8.3.*,>=5.3.0 in /home/ec2-user/anaconda3/envs/pytorch_p39/lib/python3.9/site-packages (from torchvision->timm) (9.2.0)\n",
      "Requirement already satisfied: pyparsing!=3.0.5,>=2.0.2 in /home/ec2-user/anaconda3/envs/pytorch_p39/lib/python3.9/site-packages (from packaging>=20.9->huggingface-hub->timm) (3.0.9)\n",
      "Requirement already satisfied: charset-normalizer<3,>=2 in /home/ec2-user/anaconda3/envs/pytorch_p39/lib/python3.9/site-packages (from requests->huggingface-hub->timm) (2.1.1)\n",
      "Requirement already satisfied: certifi>=2017.4.17 in /home/ec2-user/anaconda3/envs/pytorch_p39/lib/python3.9/site-packages (from requests->huggingface-hub->timm) (2022.12.7)\n",
      "Requirement already satisfied: idna<4,>=2.5 in /home/ec2-user/anaconda3/envs/pytorch_p39/lib/python3.9/site-packages (from requests->huggingface-hub->timm) (3.4)\n",
      "Requirement already satisfied: urllib3<1.27,>=1.21.1 in /home/ec2-user/anaconda3/envs/pytorch_p39/lib/python3.9/site-packages (from requests->huggingface-hub->timm) (1.26.8)\n"
     ]
    }
   ],
   "source": [
    "!pip install albumentations\n",
    "!pip install timm"
   ]
  },
  {
   "cell_type": "code",
   "execution_count": 3,
   "metadata": {
    "id": "i2eMLbKvQej7",
    "tags": []
   },
   "outputs": [],
   "source": [
    "# ====================================================\n",
    "# libraries\n",
    "# ====================================================\n",
    "\n",
    "import sys\n",
    "# sys.path.append('../input/pytorch-image-models/pytorch-image-models-master')\n",
    "import os\n",
    "import math\n",
    "import time\n",
    "import random\n",
    "import shutil\n",
    "from pathlib import Path\n",
    "from contextlib import contextmanager\n",
    "from collections import defaultdict, Counter\n",
    "import scipy as sp\n",
    "import numpy as np\n",
    "import pandas as pd\n",
    "from sklearn import preprocessing\n",
    "from sklearn.metrics import accuracy_score\n",
    "from tqdm.auto import tqdm\n",
    "from functools import partial\n",
    "import cv2\n",
    "from PIL import Image\n",
    "import torch\n",
    "import torch.nn as nn\n",
    "import torch.nn.functional as F\n",
    "from torch.optim import Adam, SGD\n",
    "import torchvision.models as models\n",
    "from torch.nn.parameter import Parameter\n",
    "from torch.utils.data import DataLoader, Dataset\n",
    "from torch.optim.lr_scheduler import ReduceLROnPlateau\n",
    "from albumentations import (Compose, Normalize, Resize, RandomResizedCrop, HorizontalFlip, VerticalFlip, ShiftScaleRotate, Transpose)\n",
    "from albumentations.pytorch import ToTensorV2\n",
    "from albumentations import ImageOnlyTransform\n",
    "import timm\n",
    "import warnings \n",
    "warnings.filterwarnings('ignore')\n",
    "device = torch.device('cuda' if torch.cuda.is_available() else 'cpu')\n",
    "from matplotlib import pyplot as plt\n",
    "import joblib"
   ]
  },
  {
   "cell_type": "markdown",
   "metadata": {
    "id": "oCuMYjbZnnEX"
   },
   "source": [
    "For the data, you need to agree to the terms and conditions to the Kaggle competition and click download all at https://www.kaggle.com/competitions/cassava-leaf-disease-classification/data.\n",
    "\n",
    "You can choose to store the data in your google drive and mount your drive for accessing them from the following cell."
   ]
  },
  {
   "cell_type": "code",
   "execution_count": 9,
   "metadata": {
    "colab": {
     "base_uri": "https://localhost:8080/"
    },
    "id": "TLQE7LYByde4",
    "outputId": "fbe65a12-911e-4364-bbde-9826d6489b98"
   },
   "outputs": [
    {
     "name": "stdout",
     "output_type": "stream",
     "text": [
      "Drive already mounted at /content/drive; to attempt to forcibly remount, call drive.mount(\"/content/drive\", force_remount=True).\n"
     ]
    }
   ],
   "source": [
    "from google.colab import drive\n",
    "drive.mount('/content/drive')"
   ]
  },
  {
   "cell_type": "code",
   "execution_count": null,
   "metadata": {
    "colab": {
     "base_uri": "https://localhost:8080/"
    },
    "id": "CNDWwDZB3xdg",
    "outputId": "0f33da91-cec5-4951-98d9-abd417d95bf0"
   },
   "outputs": [],
   "source": [
    "!yes N | unzip \"/content/drive/MyDrive/CIS519/cassava-leaf-disease-classification.zip\" -d \"/content/drive/MyDrive/CIS519/model_input\""
   ]
  },
  {
   "cell_type": "code",
   "execution_count": null,
   "metadata": {
    "tags": []
   },
   "outputs": [],
   "source": [
    "!yes N | unzip \"./train_images.zip\" -d \"./model_input\""
   ]
  },
  {
   "cell_type": "code",
   "execution_count": 14,
   "metadata": {
    "tags": []
   },
   "outputs": [
    {
     "name": "stdout",
     "output_type": "stream",
     "text": [
      "Archive:  ./test_images.zip\n",
      "   creating: ./model_input/test_images/\n",
      "  inflating: ./model_input/test_images/2216849948.jpg  \n",
      "yes: standard output: Broken pipe\n",
      "yes: write error\n"
     ]
    }
   ],
   "source": [
    "!yes N | unzip \"./test_images.zip\" -d \"./model_input\""
   ]
  },
  {
   "cell_type": "code",
   "execution_count": 11,
   "metadata": {
    "tags": []
   },
   "outputs": [],
   "source": [
    "!rm -r ./model_input/train_images"
   ]
  },
  {
   "cell_type": "code",
   "execution_count": 7,
   "metadata": {
    "colab": {
     "base_uri": "https://localhost:8080/",
     "height": 459
    },
    "id": "z2kbW4exnmaa",
    "outputId": "915ef5f3-1786-4a6a-957b-9298580c49fc",
    "tags": []
   },
   "outputs": [
    {
     "data": {
      "text/html": [
       "<div>\n",
       "<style scoped>\n",
       "    .dataframe tbody tr th:only-of-type {\n",
       "        vertical-align: middle;\n",
       "    }\n",
       "\n",
       "    .dataframe tbody tr th {\n",
       "        vertical-align: top;\n",
       "    }\n",
       "\n",
       "    .dataframe thead th {\n",
       "        text-align: right;\n",
       "    }\n",
       "</style>\n",
       "<table border=\"1\" class=\"dataframe\">\n",
       "  <thead>\n",
       "    <tr style=\"text-align: right;\">\n",
       "      <th></th>\n",
       "      <th>image_id</th>\n",
       "      <th>label</th>\n",
       "    </tr>\n",
       "  </thead>\n",
       "  <tbody>\n",
       "    <tr>\n",
       "      <th>0</th>\n",
       "      <td>1000015157.jpg</td>\n",
       "      <td>0</td>\n",
       "    </tr>\n",
       "    <tr>\n",
       "      <th>1</th>\n",
       "      <td>1000201771.jpg</td>\n",
       "      <td>3</td>\n",
       "    </tr>\n",
       "    <tr>\n",
       "      <th>2</th>\n",
       "      <td>100042118.jpg</td>\n",
       "      <td>1</td>\n",
       "    </tr>\n",
       "    <tr>\n",
       "      <th>3</th>\n",
       "      <td>1000723321.jpg</td>\n",
       "      <td>1</td>\n",
       "    </tr>\n",
       "    <tr>\n",
       "      <th>4</th>\n",
       "      <td>1000812911.jpg</td>\n",
       "      <td>3</td>\n",
       "    </tr>\n",
       "  </tbody>\n",
       "</table>\n",
       "</div>"
      ],
      "text/plain": [
       "         image_id  label\n",
       "0  1000015157.jpg      0\n",
       "1  1000201771.jpg      3\n",
       "2   100042118.jpg      1\n",
       "3  1000723321.jpg      1\n",
       "4  1000812911.jpg      3"
      ]
     },
     "metadata": {},
     "output_type": "display_data"
    },
    {
     "data": {
      "text/html": [
       "<div>\n",
       "<style scoped>\n",
       "    .dataframe tbody tr th:only-of-type {\n",
       "        vertical-align: middle;\n",
       "    }\n",
       "\n",
       "    .dataframe tbody tr th {\n",
       "        vertical-align: top;\n",
       "    }\n",
       "\n",
       "    .dataframe thead th {\n",
       "        text-align: right;\n",
       "    }\n",
       "</style>\n",
       "<table border=\"1\" class=\"dataframe\">\n",
       "  <thead>\n",
       "    <tr style=\"text-align: right;\">\n",
       "      <th></th>\n",
       "      <th>image_id</th>\n",
       "      <th>label</th>\n",
       "    </tr>\n",
       "  </thead>\n",
       "  <tbody>\n",
       "    <tr>\n",
       "      <th>0</th>\n",
       "      <td>2216849948.jpg</td>\n",
       "      <td>4</td>\n",
       "    </tr>\n",
       "  </tbody>\n",
       "</table>\n",
       "</div>"
      ],
      "text/plain": [
       "         image_id  label\n",
       "0  2216849948.jpg      4"
      ]
     },
     "metadata": {},
     "output_type": "display_data"
    },
    {
     "data": {
      "text/html": [
       "<div>\n",
       "<style scoped>\n",
       "    .dataframe tbody tr th:only-of-type {\n",
       "        vertical-align: middle;\n",
       "    }\n",
       "\n",
       "    .dataframe tbody tr th {\n",
       "        vertical-align: top;\n",
       "    }\n",
       "\n",
       "    .dataframe thead th {\n",
       "        text-align: right;\n",
       "    }\n",
       "</style>\n",
       "<table border=\"1\" class=\"dataframe\">\n",
       "  <thead>\n",
       "    <tr style=\"text-align: right;\">\n",
       "      <th></th>\n",
       "      <th>0</th>\n",
       "    </tr>\n",
       "  </thead>\n",
       "  <tbody>\n",
       "    <tr>\n",
       "      <th>0</th>\n",
       "      <td>Cassava Bacterial Blight (CBB)</td>\n",
       "    </tr>\n",
       "    <tr>\n",
       "      <th>1</th>\n",
       "      <td>Cassava Brown Streak Disease (CBSD)</td>\n",
       "    </tr>\n",
       "    <tr>\n",
       "      <th>2</th>\n",
       "      <td>Cassava Green Mottle (CGM)</td>\n",
       "    </tr>\n",
       "    <tr>\n",
       "      <th>3</th>\n",
       "      <td>Cassava Mosaic Disease (CMD)</td>\n",
       "    </tr>\n",
       "    <tr>\n",
       "      <th>4</th>\n",
       "      <td>Healthy</td>\n",
       "    </tr>\n",
       "  </tbody>\n",
       "</table>\n",
       "</div>"
      ],
      "text/plain": [
       "                                     0\n",
       "0       Cassava Bacterial Blight (CBB)\n",
       "1  Cassava Brown Streak Disease (CBSD)\n",
       "2           Cassava Green Mottle (CGM)\n",
       "3         Cassava Mosaic Disease (CMD)\n",
       "4                              Healthy"
      ]
     },
     "metadata": {},
     "output_type": "display_data"
    }
   ],
   "source": [
    "# Remeber to change the path here for the corresponding files you need\n",
    "train = pd.read_csv('./model_input/train.csv')\n",
    "test = pd.read_csv('./model_input/sample_submission.csv')\n",
    "label_map = pd.read_json('./model_input/label_num_to_disease_map.json', \n",
    "                         orient='index')\n",
    "display(train.head())\n",
    "display(test.head())\n",
    "display(label_map)"
   ]
  },
  {
   "cell_type": "code",
   "execution_count": null,
   "metadata": {
    "id": "Q7jBw3mOATeq"
   },
   "outputs": [],
   "source": [
    "training_df,validation_df=train_test_split(train,test_size=0.1, random_state=42)"
   ]
  },
  {
   "cell_type": "code",
   "execution_count": null,
   "metadata": {
    "id": "Pt_2dvCxJKW_"
   },
   "outputs": [],
   "source": [
    "class CassavaDataset(Dataset):\n",
    "\n",
    "    def __init__(self,df,data_path,mode=\"train\",transform=None):\n",
    "        super().__init__()\n",
    "        self.data_path=data_path\n",
    "        self.csv_file_path = data_path+\"/train.csv\" if mode == \"train\" else data_path+\"/sample_submission.csv.csv\"\n",
    "        self.data = df.values\n",
    "        self.transform = transform\n",
    "        self.data_dir = \"train_images\" if mode == \"train\" else \"test_images\"\n",
    "\n",
    "    def __len__(self):\n",
    "\n",
    "        return self.data.__len__()\n",
    "\n",
    "\n",
    "    def __getitem__(self, index):\n",
    "        img_name, label = self.data[index]\n",
    "        img_path = os.path.join(self.data_path,self.data_dir,img_name)\n",
    "        image = Image.open(img_path).convert(\"RGB\")\n",
    "\n",
    "        if self.transform is not None:\n",
    "            image = self.transform(image)\n",
    "\n",
    "        return image, label\n",
    "\n"
   ]
  },
  {
   "cell_type": "code",
   "execution_count": null,
   "metadata": {
    "id": "0iXV70Fi7HG5"
   },
   "outputs": [],
   "source": [
    "train_dataset = CassavaDataset(df=training_df,data_path=\"/content/drive/MyDrive/CIS519/CIS519project/model_input/cassava-leaf-disease-classification\", transform=None)\n",
    "validation_dataset=CassavaDataset(df=validation_df,data_path=\"/content/drive/MyDrive/CIS519/CIS519project/model_input/cassava-leaf-disease-classification\", transform=None)"
   ]
  },
  {
   "cell_type": "code",
   "execution_count": 4,
   "metadata": {
    "id": "RUo66NJ4Qej5",
    "tags": []
   },
   "outputs": [],
   "source": [
    "# ====================================================\n",
    "# directory settings\n",
    "# ====================================================\n",
    "\n",
    "import os\n",
    "\n",
    "OUTPUT_DIR = './model_output'\n",
    "if not os.path.exists(OUTPUT_DIR):\n",
    "    os.makedirs(OUTPUT_DIR)\n",
    "\n",
    "TRAIN_PATH = './model_input/train_images'\n",
    "TEST_PATH = './model_input/test_images'"
   ]
  },
  {
   "cell_type": "code",
   "execution_count": 14,
   "metadata": {
    "id": "4wWxwf0UQej6",
    "tags": []
   },
   "outputs": [],
   "source": [
    "# ====================================================\n",
    "# CFG\n",
    "# ====================================================\n",
    "\n",
    "class CFG:\n",
    "    print_freq=100\n",
    "    num_workers = 4\n",
    "    model_name = 'resnext50_32x4d'\n",
    "    size = 512\n",
    "    epochs = 5\n",
    "    factor = 0.2\n",
    "    patience = 5\n",
    "    eps = 1e-6\n",
    "    lr = 1e-4\n",
    "    min_lr = 1e-6\n",
    "    batch_size = 16\n",
    "    weight_decay = 1e-6\n",
    "    gradient_accumulation_steps = 1\n",
    "    max_grad_norm = 1000\n",
    "    seed = 42\n",
    "    target_size = 5\n",
    "    target_col = 'label'\n",
    "    n_fold = 5\n",
    "    trn_fold = [1,2,3,4,5]"
   ]
  },
  {
   "cell_type": "code",
   "execution_count": 6,
   "metadata": {
    "id": "hEV37Ue_Qej9",
    "tags": []
   },
   "outputs": [],
   "source": [
    "# ====================================================\n",
    "# utils\n",
    "# ====================================================\n",
    "\n",
    "def get_score(y_true, y_pred):\n",
    "    return accuracy_score(y_true, y_pred)\n",
    "\n",
    "@contextmanager\n",
    "def timer(name):\n",
    "    t0 = time.time()\n",
    "    LOGGER.info(f'[{name}] start')\n",
    "    yield\n",
    "    LOGGER.info(f'[{name}] done in {time.time() - t0:.0f} s.')\n",
    "\n",
    "def init_logger(log_file=OUTPUT_DIR+'train.log'):\n",
    "    from logging import getLogger, INFO, FileHandler,  Formatter,  StreamHandler\n",
    "    logger = getLogger(__name__)\n",
    "    logger.setLevel(INFO)\n",
    "    handler1 = StreamHandler()\n",
    "    handler1.setFormatter(Formatter(\"%(message)s\"))\n",
    "    handler2 = FileHandler(filename=log_file)\n",
    "    handler2.setFormatter(Formatter(\"%(message)s\"))\n",
    "    logger.addHandler(handler1)\n",
    "    logger.addHandler(handler2)\n",
    "    return logger\n",
    "\n",
    "LOGGER = init_logger()\n",
    "\n",
    "def seed_torch(seed=42):\n",
    "    random.seed(seed)\n",
    "    os.environ['PYTHONHASHSEED'] = str(seed)\n",
    "    np.random.seed(seed)\n",
    "    torch.manual_seed(seed)\n",
    "    torch.cuda.manual_seed(seed)\n",
    "    torch.backends.cudnn.deterministic = True\n",
    "\n",
    "seed_torch(seed=CFG.seed)"
   ]
  },
  {
   "cell_type": "code",
   "execution_count": 7,
   "metadata": {
    "id": "LOoVHSQ6Qej-",
    "tags": []
   },
   "outputs": [],
   "source": [
    "# ====================================================\n",
    "# dataset\n",
    "# ====================================================\n",
    "\n",
    "class TrainDataset(Dataset):\n",
    "    def __init__(self, df, transform=None):\n",
    "        self.df = df\n",
    "        self.file_names = df['image_id'].values\n",
    "        self.labels = df['label'].values\n",
    "        self.transform = transform\n",
    "        \n",
    "    def __len__(self):\n",
    "        return len(self.df)\n",
    "\n",
    "    def __getitem__(self, idx):\n",
    "        file_name = self.file_names[idx]\n",
    "        file_path = f'{TRAIN_PATH}/{file_name}'\n",
    "        image = cv2.imread(file_path)\n",
    "        image = cv2.cvtColor(image, cv2.COLOR_BGR2RGB)\n",
    "        if self.transform:\n",
    "            augmented = self.transform(image=image)\n",
    "            image = augmented['image']\n",
    "        label = torch.tensor(self.labels[idx]).long()\n",
    "        return image, label"
   ]
  },
  {
   "cell_type": "code",
   "execution_count": 8,
   "metadata": {
    "id": "oGndLUvnQej-",
    "tags": []
   },
   "outputs": [],
   "source": [
    "# ====================================================\n",
    "# transformations\n",
    "# ====================================================\n",
    "\n",
    "def get_transforms(*, data):\n",
    "    \n",
    "    if data == 'train':\n",
    "        return Compose([\n",
    "            RandomResizedCrop(CFG.size, CFG.size),\n",
    "            Transpose(p=0.5),\n",
    "            HorizontalFlip(p=0.5),\n",
    "            VerticalFlip(p=0.5),\n",
    "            ShiftScaleRotate(p=0.5),\n",
    "            Normalize(\n",
    "                mean=[0.485, 0.456, 0.406],\n",
    "                std=[0.229, 0.224, 0.225],\n",
    "            ),\n",
    "            ToTensorV2(),\n",
    "        ])\n",
    "    \n",
    "    elif data == 'valid':\n",
    "       return Compose([\n",
    "           Resize(CFG.size, CFG.size),\n",
    "           Normalize(\n",
    "               mean=[0.485, 0.456, 0.406],\n",
    "               std=[0.229, 0.224, 0.225],\n",
    "           ),\n",
    "           ToTensorV2(),\n",
    "       ])"
   ]
  },
  {
   "cell_type": "code",
   "execution_count": 9,
   "metadata": {
    "id": "q2cSdzvZQej-",
    "tags": []
   },
   "outputs": [],
   "source": [
    "# ====================================================\n",
    "# model initialization\n",
    "# ====================================================\n",
    "\n",
    "class CustomResNext(nn.Module):\n",
    "    def __init__(self, model_name='resnext50_32x4d', pretrained=False):\n",
    "        super().__init__()\n",
    "        self.model = timm.create_model(model_name, pretrained=pretrained)\n",
    "        n_features = self.model.fc.in_features\n",
    "        self.model.fc = nn.Linear(n_features, CFG.target_size)\n",
    "\n",
    "    def forward(self, x):\n",
    "        x = self.model(x)\n",
    "        return x"
   ]
  },
  {
   "cell_type": "code",
   "execution_count": 10,
   "metadata": {
    "id": "s__AU6_hQej-",
    "tags": []
   },
   "outputs": [],
   "source": [
    "# ====================================================\n",
    "# helper functions\n",
    "# ====================================================\n",
    "\n",
    "class AverageMeter(object):\n",
    "    \"\"\"Computes and stores the average and current value\"\"\"\n",
    "    def __init__(self):\n",
    "        self.reset()\n",
    "\n",
    "    def reset(self):\n",
    "        self.val = 0\n",
    "        self.avg = 0\n",
    "        self.sum = 0\n",
    "        self.count = 0\n",
    "\n",
    "    def update(self, val, n=1):\n",
    "        self.val = val\n",
    "        self.sum += val * n\n",
    "        self.count += n\n",
    "        self.avg = self.sum / self.count\n",
    "\n",
    "\n",
    "def asMinutes(s):\n",
    "    m = math.floor(s / 60)\n",
    "    s -= m * 60\n",
    "    return '%dm %ds' % (m, s)\n",
    "\n",
    "\n",
    "def timeSince(since, percent):\n",
    "    now = time.time()\n",
    "    s = now - since\n",
    "    es = s / (percent)\n",
    "    rs = es - s\n",
    "    return '%s (remain %s)' % (asMinutes(s), asMinutes(rs))\n",
    "\n",
    "\n",
    "def train_fn(train_loader, model, criterion, optimizer, epoch, scheduler, device):\n",
    "    batch_time = AverageMeter()\n",
    "    data_time = AverageMeter()\n",
    "    losses = AverageMeter()\n",
    "    scores = AverageMeter()\n",
    "    model.train()\n",
    "    start = end = time.time()\n",
    "    global_step = 0\n",
    "    for step, (images, labels) in enumerate(train_loader):\n",
    "        data_time.update(time.time() - end)\n",
    "        images = images.to(device)\n",
    "        labels = labels.to(device)\n",
    "        batch_size = labels.size(0)\n",
    "        y_preds = model(images)\n",
    "        loss = criterion(y_preds, labels)\n",
    "        losses.update(loss.item(), batch_size)\n",
    "        if CFG.gradient_accumulation_steps > 1:\n",
    "            loss = loss / CFG.gradient_accumulation_steps\n",
    "        else:\n",
    "            loss.backward()\n",
    "        grad_norm = torch.nn.utils.clip_grad_norm_(model.parameters(), CFG.max_grad_norm)\n",
    "        if (step + 1) % CFG.gradient_accumulation_steps == 0:\n",
    "            optimizer.step()\n",
    "            optimizer.zero_grad()\n",
    "            global_step += 1\n",
    "        batch_time.update(time.time() - end)\n",
    "        end = time.time()\n",
    "        if step % CFG.print_freq == 0 or step == (len(train_loader)-1):\n",
    "            print('Epoch: [{0}][{1}/{2}] '\n",
    "                  'Data {data_time.val:.3f} ({data_time.avg:.3f}) '\n",
    "                  'Elapsed {remain:s} '\n",
    "                  'Loss: {loss.val:.4f}({loss.avg:.4f}) '\n",
    "                  'Grad: {grad_norm:.4f}  '\n",
    "                  .format(\n",
    "                   epoch+1, step, len(train_loader), batch_time=batch_time,\n",
    "                   data_time=data_time, loss=losses,\n",
    "                   remain=timeSince(start, float(step+1)/len(train_loader)),\n",
    "                   grad_norm=grad_norm,\n",
    "                   ))\n",
    "    return losses.avg\n",
    "\n",
    "def valid_fn(valid_loader, model, criterion, device):\n",
    "    batch_time = AverageMeter()\n",
    "    data_time = AverageMeter()\n",
    "    losses = AverageMeter()\n",
    "    scores = AverageMeter()\n",
    "    model.eval()\n",
    "    preds = []\n",
    "    start = end = time.time()\n",
    "    for step, (images, labels) in enumerate(valid_loader):\n",
    "        data_time.update(time.time() - end)\n",
    "        images = images.to(device)\n",
    "        labels = labels.to(device)\n",
    "        batch_size = labels.size(0)\n",
    "        with torch.no_grad():\n",
    "            y_preds = model(images)\n",
    "        loss = criterion(y_preds, labels)\n",
    "        losses.update(loss.item(), batch_size)\n",
    "        preds.append(y_preds.softmax(1).to('cpu').numpy())\n",
    "        if CFG.gradient_accumulation_steps > 1:\n",
    "            loss = loss / CFG.gradient_accumulation_steps\n",
    "        batch_time.update(time.time() - end)\n",
    "        end = time.time()\n",
    "        if step % CFG.print_freq == 0 or step == (len(valid_loader)-1):\n",
    "            print('EVAL: [{0}/{1}] '\n",
    "                  'Data {data_time.val:.3f} ({data_time.avg:.3f}) '\n",
    "                  'Elapsed {remain:s} '\n",
    "                  'Loss: {loss.val:.4f}({loss.avg:.4f}) '\n",
    "                  .format(\n",
    "                   step, len(valid_loader), batch_time=batch_time,\n",
    "                   data_time=data_time, loss=losses,\n",
    "                   remain=timeSince(start, float(step+1)/len(valid_loader)),\n",
    "                   ))\n",
    "    predictions = np.concatenate(preds)\n",
    "    return losses.avg, predictions"
   ]
  },
  {
   "cell_type": "code",
   "execution_count": 11,
   "metadata": {
    "_cell_guid": "b1076dfc-b9ad-4769-8c92-a6c4dae69d19",
    "_uuid": "8f2839f25d086af736a60e9eeb907d3b93b6e0e5",
    "id": "nRWrq-1VQej_",
    "tags": []
   },
   "outputs": [],
   "source": [
    "# ====================================================\n",
    "# train loop\n",
    "# ====================================================\n",
    "\n",
    "def train_loop(folds, fold):\n",
    "\n",
    "    LOGGER.info(f\"========== fold: {fold} training ==========\")\n",
    "\n",
    "    trn_idx = folds[folds['fold'] != fold].index\n",
    "    val_idx = folds[folds['fold'] == fold].index\n",
    "\n",
    "    train_folds = folds.loc[trn_idx].reset_index(drop=True)\n",
    "    valid_folds = folds.loc[val_idx].reset_index(drop=True)\n",
    "\n",
    "    train_dataset = TrainDataset(train_folds, transform=get_transforms(data='train'))\n",
    "    valid_dataset = TrainDataset(valid_folds, transform=get_transforms(data='valid'))\n",
    "\n",
    "    train_loader = DataLoader(train_dataset, batch_size=CFG.batch_size, \n",
    "                              shuffle=True, num_workers=CFG.num_workers, pin_memory=True, drop_last=True)\n",
    "    valid_loader = DataLoader(valid_dataset, batch_size=CFG.batch_size, \n",
    "                              shuffle=False, num_workers=CFG.num_workers, pin_memory=True, drop_last=False)\n",
    "    \n",
    "    model = CustomResNext(CFG.model_name, pretrained=True)\n",
    "    model.to(device)\n",
    "\n",
    "    optimizer = Adam(model.parameters(), lr=CFG.lr, weight_decay=CFG.weight_decay, amsgrad=False)\n",
    "    scheduler = ReduceLROnPlateau(optimizer, mode='min', factor=CFG.factor, patience=CFG.patience, verbose=True, eps=CFG.eps)\n",
    "  \n",
    "    criterion = nn.CrossEntropyLoss()\n",
    "\n",
    "    best_score = 0.\n",
    "    best_loss = np.inf\n",
    "    \n",
    "    for epoch in range(CFG.epochs):\n",
    "        start_time = time.time()\n",
    "        avg_loss = train_fn(train_loader, model, criterion, optimizer, epoch, scheduler, device)\n",
    "        avg_val_loss, preds = valid_fn(valid_loader, model, criterion, device)\n",
    "        valid_labels = valid_folds[CFG.target_col].values\n",
    "        scheduler.step(avg_val_loss)\n",
    "        score = get_score(valid_labels, preds.argmax(1))\n",
    "        elapsed = time.time() - start_time\n",
    "        LOGGER.info(f'Epoch {epoch+1} - avg_train_loss: {avg_loss:.4f}  avg_val_loss: {avg_val_loss:.4f}  time: {elapsed:.0f}s')\n",
    "        LOGGER.info(f'Epoch {epoch+1} - Accuracy: {score}')\n",
    "        if score > best_score:\n",
    "            best_score = score\n",
    "            LOGGER.info(f'Epoch {epoch+1} - Save Best Score: {best_score:.4f} Model')\n",
    "            torch.save({'model': model.state_dict(), 'preds': preds}, OUTPUT_DIR+f'{CFG.model_name}_fold{fold}_best.pth')\n",
    "    \n",
    "    check_point = torch.load(OUTPUT_DIR+f'{CFG.model_name}_fold{fold}_best.pth')\n",
    "    valid_folds[[str(c) for c in range(5)]] = check_point['preds']\n",
    "    valid_folds['preds'] = check_point['preds'].argmax(1)\n",
    "\n",
    "    return valid_folds"
   ]
  },
  {
   "cell_type": "code",
   "execution_count": 12,
   "metadata": {
    "id": "-_AHOMqZQej_",
    "tags": []
   },
   "outputs": [],
   "source": [
    "# ====================================================\n",
    "# main function\n",
    "# ====================================================\n",
    "\n",
    "def main():\n",
    "\n",
    "    def get_result(result_df):\n",
    "        preds = result_df['preds'].values\n",
    "        labels = result_df[CFG.target_col].values\n",
    "        score = get_score(labels, preds)\n",
    "        LOGGER.info(f'Score: {score:<.5f}')\n",
    "    \n",
    "    oof_df = pd.DataFrame()\n",
    "    for fold in range(CFG.n_fold):\n",
    "        if fold in CFG.trn_fold:\n",
    "            _oof_df = train_loop(folds, fold)\n",
    "            oof_df = pd.concat([oof_df, _oof_df])\n",
    "            LOGGER.info(f\"========== fold: {fold} result ==========\")\n",
    "            get_result(_oof_df)\n",
    "    LOGGER.info(f\"========== CV ==========\")\n",
    "    get_result(oof_df)\n",
    "    oof_df.to_csv(OUTPUT_DIR+'oof_df.csv', index=False)"
   ]
  },
  {
   "cell_type": "code",
   "execution_count": 13,
   "metadata": {
    "_cell_guid": "79c7e3d0-c299-4dcb-8224-4455121ee9b0",
    "_uuid": "d629ff2d2480ee46fbb7e2d37f6b5fab8052498a",
    "colab": {
     "base_uri": "https://localhost:8080/",
     "height": 480
    },
    "id": "WReBWWMNQekB",
    "outputId": "414fa732-b2f9-4f93-fc2c-e8a529b7046a",
    "tags": []
   },
   "outputs": [
    {
     "name": "stderr",
     "output_type": "stream",
     "text": [
      "========== fold: 1 training ==========\n",
      "Downloading: \"https://github.com/rwightman/pytorch-image-models/releases/download/v0.1-rsb-weights/resnext50_32x4d_a1h-0146ab0a.pth\" to /home/ec2-user/.cache/torch/hub/checkpoints/resnext50_32x4d_a1h-0146ab0a.pth\n"
     ]
    },
    {
     "name": "stdout",
     "output_type": "stream",
     "text": [
      "Epoch: [1][0/1086] Data 0.804 (0.804) Elapsed 1m 8s (remain 1232m 16s) Loss: 1.5777(1.5777) Grad: 6.5746  \n",
      "Epoch: [1][100/1086] Data 0.000 (0.008) Elapsed 3m 1s (remain 29m 33s) Loss: 0.9412(1.1570) Grad: 10.4587  \n",
      "Epoch: [1][200/1086] Data 0.000 (0.004) Elapsed 4m 59s (remain 21m 59s) Loss: 0.7454(1.0366) Grad: 4.4660  \n",
      "Epoch: [1][300/1086] Data 0.000 (0.003) Elapsed 6m 58s (remain 18m 10s) Loss: 0.7721(0.9765) Grad: 5.0295  \n",
      "Epoch: [1][400/1086] Data 0.000 (0.002) Elapsed 8m 56s (remain 15m 16s) Loss: 0.7517(0.9108) Grad: 5.2932  \n",
      "Epoch: [1][500/1086] Data 0.000 (0.002) Elapsed 10m 54s (remain 12m 44s) Loss: 0.9873(0.8592) Grad: 10.3705  \n",
      "Epoch: [1][600/1086] Data 0.000 (0.002) Elapsed 12m 53s (remain 10m 24s) Loss: 0.5184(0.8220) Grad: 6.1214  \n",
      "Epoch: [1][700/1086] Data 0.000 (0.001) Elapsed 14m 50s (remain 8m 9s) Loss: 0.8162(0.7932) Grad: 8.5015  \n",
      "Epoch: [1][800/1086] Data 0.000 (0.001) Elapsed 16m 42s (remain 5m 56s) Loss: 0.5200(0.7667) Grad: 8.2510  \n",
      "Epoch: [1][900/1086] Data 0.000 (0.001) Elapsed 18m 35s (remain 3m 48s) Loss: 0.6089(0.7452) Grad: 6.8751  \n",
      "Epoch: [1][1000/1086] Data 0.000 (0.001) Elapsed 20m 31s (remain 1m 44s) Loss: 0.6581(0.7220) Grad: 9.0499  \n",
      "Epoch: [1][1085/1086] Data 0.000 (0.001) Elapsed 22m 12s (remain 0m 0s) Loss: 0.8898(0.7070) Grad: 6.6326  \n",
      "EVAL: [0/251] Data 0.414 (0.414) Elapsed 0m 0s (remain 2m 58s) Loss: 0.3892(0.3892) \n",
      "EVAL: [100/251] Data 0.000 (0.004) Elapsed 0m 30s (remain 0m 45s) Loss: 0.5497(0.4834) \n",
      "EVAL: [200/251] Data 0.000 (0.002) Elapsed 1m 0s (remain 0m 14s) Loss: 0.2885(0.4883) \n"
     ]
    },
    {
     "name": "stderr",
     "output_type": "stream",
     "text": [
      "Epoch 1 - avg_train_loss: 0.7070  avg_val_loss: 0.4753  time: 1408s\n",
      "Epoch 1 - Accuracy: 0.8428001993024414\n",
      "Epoch 1 - Save Best Score: 0.8428 Model\n"
     ]
    },
    {
     "name": "stdout",
     "output_type": "stream",
     "text": [
      "EVAL: [250/251] Data 0.000 (0.002) Elapsed 1m 15s (remain 0m 0s) Loss: 0.3287(0.4753) \n",
      "Epoch: [2][0/1086] Data 0.491 (0.491) Elapsed 0m 1s (remain 30m 6s) Loss: 0.8758(0.8758) Grad: 6.7841  \n",
      "Epoch: [2][100/1086] Data 0.000 (0.005) Elapsed 2m 0s (remain 19m 31s) Loss: 0.6408(0.4893) Grad: 5.8968  \n",
      "Epoch: [2][200/1086] Data 0.000 (0.003) Elapsed 3m 58s (remain 17m 29s) Loss: 0.4515(0.4854) Grad: 6.5698  \n",
      "Epoch: [2][300/1086] Data 0.000 (0.002) Elapsed 5m 56s (remain 15m 29s) Loss: 0.2862(0.4828) Grad: 4.7107  \n",
      "Epoch: [2][400/1086] Data 0.000 (0.002) Elapsed 7m 54s (remain 13m 30s) Loss: 0.6396(0.4874) Grad: 4.9746  \n",
      "Epoch: [2][500/1086] Data 0.000 (0.001) Elapsed 9m 52s (remain 11m 31s) Loss: 0.2734(0.4914) Grad: 5.0569  \n",
      "Epoch: [2][600/1086] Data 0.000 (0.001) Elapsed 11m 50s (remain 9m 33s) Loss: 0.2562(0.4940) Grad: 4.2103  \n",
      "Epoch: [2][700/1086] Data 0.000 (0.001) Elapsed 13m 48s (remain 7m 35s) Loss: 0.5864(0.4937) Grad: 4.1037  \n",
      "Epoch: [2][800/1086] Data 0.000 (0.001) Elapsed 15m 47s (remain 5m 37s) Loss: 0.3270(0.4883) Grad: 3.8303  \n",
      "Epoch: [2][900/1086] Data 0.000 (0.001) Elapsed 17m 45s (remain 3m 38s) Loss: 0.5314(0.4861) Grad: 4.6105  \n",
      "Epoch: [2][1000/1086] Data 0.000 (0.001) Elapsed 19m 44s (remain 1m 40s) Loss: 0.4587(0.4871) Grad: 4.3110  \n",
      "Epoch: [2][1085/1086] Data 0.000 (0.001) Elapsed 21m 25s (remain 0m 0s) Loss: 0.1503(0.4866) Grad: 2.4337  \n",
      "EVAL: [0/251] Data 0.407 (0.407) Elapsed 0m 0s (remain 2m 56s) Loss: 0.2834(0.2834) \n",
      "EVAL: [100/251] Data 0.000 (0.004) Elapsed 0m 30s (remain 0m 45s) Loss: 0.4168(0.4066) \n",
      "EVAL: [200/251] Data 0.000 (0.002) Elapsed 1m 0s (remain 0m 15s) Loss: 0.2403(0.4016) \n"
     ]
    },
    {
     "name": "stderr",
     "output_type": "stream",
     "text": [
      "Epoch 2 - avg_train_loss: 0.4866  avg_val_loss: 0.3913  time: 1361s\n",
      "Epoch 2 - Accuracy: 0.874439461883408\n",
      "Epoch 2 - Save Best Score: 0.8744 Model\n"
     ]
    },
    {
     "name": "stdout",
     "output_type": "stream",
     "text": [
      "EVAL: [250/251] Data 0.000 (0.002) Elapsed 1m 15s (remain 0m 0s) Loss: 0.4172(0.3913) \n",
      "Epoch: [3][0/1086] Data 0.490 (0.490) Elapsed 0m 1s (remain 30m 6s) Loss: 0.3003(0.3003) Grad: 4.8208  \n",
      "Epoch: [3][100/1086] Data 0.000 (0.005) Elapsed 2m 0s (remain 19m 31s) Loss: 0.7379(0.4317) Grad: 5.4568  \n",
      "Epoch: [3][200/1086] Data 0.000 (0.003) Elapsed 3m 58s (remain 17m 31s) Loss: 0.7531(0.4468) Grad: 5.2964  \n",
      "Epoch: [3][300/1086] Data 0.000 (0.002) Elapsed 5m 57s (remain 15m 32s) Loss: 0.3320(0.4503) Grad: 3.4576  \n",
      "Epoch: [3][400/1086] Data 0.000 (0.002) Elapsed 7m 56s (remain 13m 33s) Loss: 0.2020(0.4543) Grad: 3.3729  \n",
      "Epoch: [3][500/1086] Data 0.000 (0.001) Elapsed 9m 54s (remain 11m 34s) Loss: 0.3352(0.4575) Grad: 4.2524  \n",
      "Epoch: [3][600/1086] Data 0.000 (0.001) Elapsed 11m 53s (remain 9m 35s) Loss: 0.3844(0.4562) Grad: 3.5613  \n",
      "Epoch: [3][700/1086] Data 0.000 (0.001) Elapsed 13m 46s (remain 7m 33s) Loss: 0.4877(0.4564) Grad: 4.4977  \n",
      "Epoch: [3][800/1086] Data 0.000 (0.001) Elapsed 15m 37s (remain 5m 33s) Loss: 0.4933(0.4573) Grad: 3.9359  \n",
      "Epoch: [3][900/1086] Data 0.000 (0.001) Elapsed 17m 28s (remain 3m 35s) Loss: 0.5437(0.4570) Grad: 7.1994  \n",
      "Epoch: [3][1000/1086] Data 0.000 (0.001) Elapsed 19m 19s (remain 1m 38s) Loss: 0.3211(0.4566) Grad: 4.0102  \n",
      "Epoch: [3][1085/1086] Data 0.000 (0.001) Elapsed 20m 55s (remain 0m 0s) Loss: 0.3438(0.4527) Grad: 3.4577  \n",
      "EVAL: [0/251] Data 0.405 (0.405) Elapsed 0m 0s (remain 2m 51s) Loss: 0.3401(0.3401) \n",
      "EVAL: [100/251] Data 0.000 (0.004) Elapsed 0m 29s (remain 0m 43s) Loss: 0.4098(0.4221) \n",
      "EVAL: [200/251] Data 0.000 (0.002) Elapsed 0m 58s (remain 0m 14s) Loss: 0.2381(0.4233) \n"
     ]
    },
    {
     "name": "stderr",
     "output_type": "stream",
     "text": [
      "Epoch 3 - avg_train_loss: 0.4527  avg_val_loss: 0.4122  time: 1328s\n",
      "Epoch 3 - Accuracy: 0.8607374190333832\n"
     ]
    },
    {
     "name": "stdout",
     "output_type": "stream",
     "text": [
      "EVAL: [250/251] Data 0.000 (0.002) Elapsed 1m 12s (remain 0m 0s) Loss: 0.4442(0.4122) \n",
      "Epoch: [4][0/1086] Data 0.434 (0.434) Elapsed 0m 1s (remain 28m 41s) Loss: 0.6949(0.6949) Grad: 5.0201  \n",
      "Epoch: [4][100/1086] Data 0.000 (0.005) Elapsed 1m 59s (remain 19m 25s) Loss: 0.9912(0.4199) Grad: 7.6145  \n",
      "Epoch: [4][200/1086] Data 0.000 (0.002) Elapsed 3m 52s (remain 17m 3s) Loss: 0.5452(0.4233) Grad: 4.6620  \n",
      "Epoch: [4][300/1086] Data 0.000 (0.002) Elapsed 5m 44s (remain 14m 57s) Loss: 0.6142(0.4314) Grad: 6.5462  \n",
      "Epoch: [4][400/1086] Data 0.000 (0.001) Elapsed 7m 38s (remain 13m 3s) Loss: 0.4013(0.4303) Grad: 3.5622  \n",
      "Epoch: [4][500/1086] Data 0.000 (0.001) Elapsed 9m 36s (remain 11m 13s) Loss: 0.5161(0.4301) Grad: 4.2810  \n",
      "Epoch: [4][600/1086] Data 0.000 (0.001) Elapsed 11m 35s (remain 9m 21s) Loss: 0.4330(0.4269) Grad: 3.4942  \n",
      "Epoch: [4][700/1086] Data 0.000 (0.001) Elapsed 13m 34s (remain 7m 27s) Loss: 0.2945(0.4272) Grad: 5.2816  \n",
      "Epoch: [4][800/1086] Data 0.000 (0.001) Elapsed 15m 32s (remain 5m 31s) Loss: 0.5538(0.4258) Grad: 5.0580  \n",
      "Epoch: [4][900/1086] Data 0.000 (0.001) Elapsed 17m 30s (remain 3m 35s) Loss: 0.3348(0.4259) Grad: 3.7817  \n",
      "Epoch: [4][1000/1086] Data 0.000 (0.001) Elapsed 19m 29s (remain 1m 39s) Loss: 0.7725(0.4257) Grad: 4.6077  \n",
      "Epoch: [4][1085/1086] Data 0.000 (0.001) Elapsed 21m 9s (remain 0m 0s) Loss: 0.3261(0.4254) Grad: 4.8480  \n",
      "EVAL: [0/251] Data 0.404 (0.404) Elapsed 0m 0s (remain 2m 54s) Loss: 0.2820(0.2820) \n",
      "EVAL: [100/251] Data 0.000 (0.004) Elapsed 0m 30s (remain 0m 45s) Loss: 0.4565(0.3887) \n",
      "EVAL: [200/251] Data 0.000 (0.002) Elapsed 1m 0s (remain 0m 15s) Loss: 0.3268(0.3808) \n"
     ]
    },
    {
     "name": "stderr",
     "output_type": "stream",
     "text": [
      "Epoch 4 - avg_train_loss: 0.4254  avg_val_loss: 0.3725  time: 1346s\n",
      "Epoch 4 - Accuracy: 0.882660687593423\n",
      "Epoch 4 - Save Best Score: 0.8827 Model\n"
     ]
    },
    {
     "name": "stdout",
     "output_type": "stream",
     "text": [
      "EVAL: [250/251] Data 0.000 (0.002) Elapsed 1m 15s (remain 0m 0s) Loss: 0.3711(0.3725) \n",
      "Epoch: [5][0/1086] Data 0.459 (0.459) Elapsed 0m 1s (remain 29m 31s) Loss: 0.5600(0.5600) Grad: 6.5942  \n",
      "Epoch: [5][100/1086] Data 0.000 (0.005) Elapsed 1m 56s (remain 18m 52s) Loss: 0.3573(0.4189) Grad: 6.3909  \n",
      "Epoch: [5][200/1086] Data 0.000 (0.003) Elapsed 3m 47s (remain 16m 42s) Loss: 0.3238(0.4236) Grad: 5.0967  \n",
      "Epoch: [5][300/1086] Data 0.000 (0.002) Elapsed 5m 40s (remain 14m 49s) Loss: 0.4561(0.4155) Grad: 6.3429  \n",
      "Epoch: [5][400/1086] Data 0.000 (0.001) Elapsed 7m 38s (remain 13m 2s) Loss: 0.3621(0.4118) Grad: 2.7353  \n",
      "Epoch: [5][500/1086] Data 0.000 (0.001) Elapsed 9m 36s (remain 11m 12s) Loss: 0.0983(0.4107) Grad: 1.8270  \n",
      "Epoch: [5][600/1086] Data 0.000 (0.001) Elapsed 11m 34s (remain 9m 20s) Loss: 0.4304(0.4175) Grad: 3.7187  \n",
      "Epoch: [5][700/1086] Data 0.000 (0.001) Elapsed 13m 33s (remain 7m 26s) Loss: 0.1383(0.4115) Grad: 1.5770  \n",
      "Epoch: [5][800/1086] Data 0.000 (0.001) Elapsed 15m 31s (remain 5m 31s) Loss: 0.2924(0.4070) Grad: 6.5072  \n",
      "Epoch: [5][900/1086] Data 0.000 (0.001) Elapsed 17m 29s (remain 3m 35s) Loss: 0.6336(0.4083) Grad: 6.7939  \n",
      "Epoch: [5][1000/1086] Data 0.000 (0.001) Elapsed 19m 23s (remain 1m 38s) Loss: 0.6021(0.4071) Grad: 4.8886  \n",
      "Epoch: [5][1085/1086] Data 0.000 (0.001) Elapsed 20m 58s (remain 0m 0s) Loss: 0.7213(0.4082) Grad: 7.4321  \n",
      "EVAL: [0/251] Data 0.388 (0.388) Elapsed 0m 0s (remain 2m 47s) Loss: 0.3832(0.3832) \n",
      "EVAL: [100/251] Data 0.000 (0.004) Elapsed 0m 29s (remain 0m 43s) Loss: 0.2564(0.4008) \n",
      "EVAL: [200/251] Data 0.000 (0.002) Elapsed 0m 57s (remain 0m 14s) Loss: 0.2156(0.3975) \n"
     ]
    },
    {
     "name": "stderr",
     "output_type": "stream",
     "text": [
      "Epoch 5 - avg_train_loss: 0.4082  avg_val_loss: 0.3883  time: 1330s\n",
      "Epoch 5 - Accuracy: 0.8771798704534131\n",
      "========== fold: 1 result ==========\n",
      "Score: 0.88266\n",
      "========== fold: 2 training ==========\n"
     ]
    },
    {
     "name": "stdout",
     "output_type": "stream",
     "text": [
      "EVAL: [250/251] Data 0.000 (0.002) Elapsed 1m 11s (remain 0m 0s) Loss: 0.4179(0.3883) \n",
      "Epoch: [1][0/1086] Data 0.563 (0.563) Elapsed 0m 1s (remain 30m 35s) Loss: 1.6168(1.6168) Grad: 14.2316  \n",
      "Epoch: [1][100/1086] Data 0.000 (0.006) Elapsed 1m 57s (remain 19m 5s) Loss: 0.8753(1.1693) Grad: 6.4066  \n"
     ]
    },
    {
     "ename": "KeyboardInterrupt",
     "evalue": "",
     "output_type": "error",
     "traceback": [
      "\u001b[0;31m---------------------------------------------------------------------------\u001b[0m",
      "\u001b[0;31mKeyboardInterrupt\u001b[0m                         Traceback (most recent call last)",
      "\u001b[0;32m/tmp/ipykernel_8289/2389217851.py\u001b[0m in \u001b[0;36m<cell line: 7>\u001b[0;34m()\u001b[0m\n\u001b[1;32m      6\u001b[0m \u001b[0;34m\u001b[0m\u001b[0m\n\u001b[1;32m      7\u001b[0m \u001b[0;32mif\u001b[0m \u001b[0m__name__\u001b[0m \u001b[0;34m==\u001b[0m \u001b[0;34m'__main__'\u001b[0m\u001b[0;34m:\u001b[0m\u001b[0;34m\u001b[0m\u001b[0;34m\u001b[0m\u001b[0m\n\u001b[0;32m----> 8\u001b[0;31m     \u001b[0mmain\u001b[0m\u001b[0;34m(\u001b[0m\u001b[0;34m)\u001b[0m\u001b[0;34m\u001b[0m\u001b[0;34m\u001b[0m\u001b[0m\n\u001b[0m",
      "\u001b[0;32m/tmp/ipykernel_8289/1505638721.py\u001b[0m in \u001b[0;36mmain\u001b[0;34m()\u001b[0m\n\u001b[1;32m     14\u001b[0m     \u001b[0;32mfor\u001b[0m \u001b[0mfold\u001b[0m \u001b[0;32min\u001b[0m \u001b[0mrange\u001b[0m\u001b[0;34m(\u001b[0m\u001b[0mCFG\u001b[0m\u001b[0;34m.\u001b[0m\u001b[0mn_fold\u001b[0m\u001b[0;34m)\u001b[0m\u001b[0;34m:\u001b[0m\u001b[0;34m\u001b[0m\u001b[0;34m\u001b[0m\u001b[0m\n\u001b[1;32m     15\u001b[0m         \u001b[0;32mif\u001b[0m \u001b[0mfold\u001b[0m \u001b[0;32min\u001b[0m \u001b[0mCFG\u001b[0m\u001b[0;34m.\u001b[0m\u001b[0mtrn_fold\u001b[0m\u001b[0;34m:\u001b[0m\u001b[0;34m\u001b[0m\u001b[0;34m\u001b[0m\u001b[0m\n\u001b[0;32m---> 16\u001b[0;31m             \u001b[0m_oof_df\u001b[0m \u001b[0;34m=\u001b[0m \u001b[0mtrain_loop\u001b[0m\u001b[0;34m(\u001b[0m\u001b[0mfolds\u001b[0m\u001b[0;34m,\u001b[0m \u001b[0mfold\u001b[0m\u001b[0;34m)\u001b[0m\u001b[0;34m\u001b[0m\u001b[0;34m\u001b[0m\u001b[0m\n\u001b[0m\u001b[1;32m     17\u001b[0m             \u001b[0moof_df\u001b[0m \u001b[0;34m=\u001b[0m \u001b[0mpd\u001b[0m\u001b[0;34m.\u001b[0m\u001b[0mconcat\u001b[0m\u001b[0;34m(\u001b[0m\u001b[0;34m[\u001b[0m\u001b[0moof_df\u001b[0m\u001b[0;34m,\u001b[0m \u001b[0m_oof_df\u001b[0m\u001b[0;34m]\u001b[0m\u001b[0;34m)\u001b[0m\u001b[0;34m\u001b[0m\u001b[0;34m\u001b[0m\u001b[0m\n\u001b[1;32m     18\u001b[0m             \u001b[0mLOGGER\u001b[0m\u001b[0;34m.\u001b[0m\u001b[0minfo\u001b[0m\u001b[0;34m(\u001b[0m\u001b[0;34mf\"========== fold: {fold} result ==========\"\u001b[0m\u001b[0;34m)\u001b[0m\u001b[0;34m\u001b[0m\u001b[0;34m\u001b[0m\u001b[0m\n",
      "\u001b[0;32m/tmp/ipykernel_8289/2270168709.py\u001b[0m in \u001b[0;36mtrain_loop\u001b[0;34m(folds, fold)\u001b[0m\n\u001b[1;32m     34\u001b[0m     \u001b[0;32mfor\u001b[0m \u001b[0mepoch\u001b[0m \u001b[0;32min\u001b[0m \u001b[0mrange\u001b[0m\u001b[0;34m(\u001b[0m\u001b[0mCFG\u001b[0m\u001b[0;34m.\u001b[0m\u001b[0mepochs\u001b[0m\u001b[0;34m)\u001b[0m\u001b[0;34m:\u001b[0m\u001b[0;34m\u001b[0m\u001b[0;34m\u001b[0m\u001b[0m\n\u001b[1;32m     35\u001b[0m         \u001b[0mstart_time\u001b[0m \u001b[0;34m=\u001b[0m \u001b[0mtime\u001b[0m\u001b[0;34m.\u001b[0m\u001b[0mtime\u001b[0m\u001b[0;34m(\u001b[0m\u001b[0;34m)\u001b[0m\u001b[0;34m\u001b[0m\u001b[0;34m\u001b[0m\u001b[0m\n\u001b[0;32m---> 36\u001b[0;31m         \u001b[0mavg_loss\u001b[0m \u001b[0;34m=\u001b[0m \u001b[0mtrain_fn\u001b[0m\u001b[0;34m(\u001b[0m\u001b[0mtrain_loader\u001b[0m\u001b[0;34m,\u001b[0m \u001b[0mmodel\u001b[0m\u001b[0;34m,\u001b[0m \u001b[0mcriterion\u001b[0m\u001b[0;34m,\u001b[0m \u001b[0moptimizer\u001b[0m\u001b[0;34m,\u001b[0m \u001b[0mepoch\u001b[0m\u001b[0;34m,\u001b[0m \u001b[0mscheduler\u001b[0m\u001b[0;34m,\u001b[0m \u001b[0mdevice\u001b[0m\u001b[0;34m)\u001b[0m\u001b[0;34m\u001b[0m\u001b[0;34m\u001b[0m\u001b[0m\n\u001b[0m\u001b[1;32m     37\u001b[0m         \u001b[0mavg_val_loss\u001b[0m\u001b[0;34m,\u001b[0m \u001b[0mpreds\u001b[0m \u001b[0;34m=\u001b[0m \u001b[0mvalid_fn\u001b[0m\u001b[0;34m(\u001b[0m\u001b[0mvalid_loader\u001b[0m\u001b[0;34m,\u001b[0m \u001b[0mmodel\u001b[0m\u001b[0;34m,\u001b[0m \u001b[0mcriterion\u001b[0m\u001b[0;34m,\u001b[0m \u001b[0mdevice\u001b[0m\u001b[0;34m)\u001b[0m\u001b[0;34m\u001b[0m\u001b[0;34m\u001b[0m\u001b[0m\n\u001b[1;32m     38\u001b[0m         \u001b[0mvalid_labels\u001b[0m \u001b[0;34m=\u001b[0m \u001b[0mvalid_folds\u001b[0m\u001b[0;34m[\u001b[0m\u001b[0mCFG\u001b[0m\u001b[0;34m.\u001b[0m\u001b[0mtarget_col\u001b[0m\u001b[0;34m]\u001b[0m\u001b[0;34m.\u001b[0m\u001b[0mvalues\u001b[0m\u001b[0;34m\u001b[0m\u001b[0;34m\u001b[0m\u001b[0m\n",
      "\u001b[0;32m/tmp/ipykernel_8289/4066379981.py\u001b[0m in \u001b[0;36mtrain_fn\u001b[0;34m(train_loader, model, criterion, optimizer, epoch, scheduler, device)\u001b[0m\n\u001b[1;32m     57\u001b[0m         \u001b[0mgrad_norm\u001b[0m \u001b[0;34m=\u001b[0m \u001b[0mtorch\u001b[0m\u001b[0;34m.\u001b[0m\u001b[0mnn\u001b[0m\u001b[0;34m.\u001b[0m\u001b[0mutils\u001b[0m\u001b[0;34m.\u001b[0m\u001b[0mclip_grad_norm_\u001b[0m\u001b[0;34m(\u001b[0m\u001b[0mmodel\u001b[0m\u001b[0;34m.\u001b[0m\u001b[0mparameters\u001b[0m\u001b[0;34m(\u001b[0m\u001b[0;34m)\u001b[0m\u001b[0;34m,\u001b[0m \u001b[0mCFG\u001b[0m\u001b[0;34m.\u001b[0m\u001b[0mmax_grad_norm\u001b[0m\u001b[0;34m)\u001b[0m\u001b[0;34m\u001b[0m\u001b[0;34m\u001b[0m\u001b[0m\n\u001b[1;32m     58\u001b[0m         \u001b[0;32mif\u001b[0m \u001b[0;34m(\u001b[0m\u001b[0mstep\u001b[0m \u001b[0;34m+\u001b[0m \u001b[0;36m1\u001b[0m\u001b[0;34m)\u001b[0m \u001b[0;34m%\u001b[0m \u001b[0mCFG\u001b[0m\u001b[0;34m.\u001b[0m\u001b[0mgradient_accumulation_steps\u001b[0m \u001b[0;34m==\u001b[0m \u001b[0;36m0\u001b[0m\u001b[0;34m:\u001b[0m\u001b[0;34m\u001b[0m\u001b[0;34m\u001b[0m\u001b[0m\n\u001b[0;32m---> 59\u001b[0;31m             \u001b[0moptimizer\u001b[0m\u001b[0;34m.\u001b[0m\u001b[0mstep\u001b[0m\u001b[0;34m(\u001b[0m\u001b[0;34m)\u001b[0m\u001b[0;34m\u001b[0m\u001b[0;34m\u001b[0m\u001b[0m\n\u001b[0m\u001b[1;32m     60\u001b[0m             \u001b[0moptimizer\u001b[0m\u001b[0;34m.\u001b[0m\u001b[0mzero_grad\u001b[0m\u001b[0;34m(\u001b[0m\u001b[0;34m)\u001b[0m\u001b[0;34m\u001b[0m\u001b[0;34m\u001b[0m\u001b[0m\n\u001b[1;32m     61\u001b[0m             \u001b[0mglobal_step\u001b[0m \u001b[0;34m+=\u001b[0m \u001b[0;36m1\u001b[0m\u001b[0;34m\u001b[0m\u001b[0;34m\u001b[0m\u001b[0m\n",
      "\u001b[0;32m~/anaconda3/envs/pytorch_p39/lib/python3.9/site-packages/torch/optim/optimizer.py\u001b[0m in \u001b[0;36mwrapper\u001b[0;34m(*args, **kwargs)\u001b[0m\n\u001b[1;32m    138\u001b[0m                 \u001b[0mprofile_name\u001b[0m \u001b[0;34m=\u001b[0m \u001b[0;34m\"Optimizer.step#{}.step\"\u001b[0m\u001b[0;34m.\u001b[0m\u001b[0mformat\u001b[0m\u001b[0;34m(\u001b[0m\u001b[0mobj\u001b[0m\u001b[0;34m.\u001b[0m\u001b[0m__class__\u001b[0m\u001b[0;34m.\u001b[0m\u001b[0m__name__\u001b[0m\u001b[0;34m)\u001b[0m\u001b[0;34m\u001b[0m\u001b[0;34m\u001b[0m\u001b[0m\n\u001b[1;32m    139\u001b[0m                 \u001b[0;32mwith\u001b[0m \u001b[0mtorch\u001b[0m\u001b[0;34m.\u001b[0m\u001b[0mautograd\u001b[0m\u001b[0;34m.\u001b[0m\u001b[0mprofiler\u001b[0m\u001b[0;34m.\u001b[0m\u001b[0mrecord_function\u001b[0m\u001b[0;34m(\u001b[0m\u001b[0mprofile_name\u001b[0m\u001b[0;34m)\u001b[0m\u001b[0;34m:\u001b[0m\u001b[0;34m\u001b[0m\u001b[0;34m\u001b[0m\u001b[0m\n\u001b[0;32m--> 140\u001b[0;31m                     \u001b[0mout\u001b[0m \u001b[0;34m=\u001b[0m \u001b[0mfunc\u001b[0m\u001b[0;34m(\u001b[0m\u001b[0;34m*\u001b[0m\u001b[0margs\u001b[0m\u001b[0;34m,\u001b[0m \u001b[0;34m**\u001b[0m\u001b[0mkwargs\u001b[0m\u001b[0;34m)\u001b[0m\u001b[0;34m\u001b[0m\u001b[0;34m\u001b[0m\u001b[0m\n\u001b[0m\u001b[1;32m    141\u001b[0m                     \u001b[0mobj\u001b[0m\u001b[0;34m.\u001b[0m\u001b[0m_optimizer_step_code\u001b[0m\u001b[0;34m(\u001b[0m\u001b[0;34m)\u001b[0m\u001b[0;34m\u001b[0m\u001b[0;34m\u001b[0m\u001b[0m\n\u001b[1;32m    142\u001b[0m                     \u001b[0;32mreturn\u001b[0m \u001b[0mout\u001b[0m\u001b[0;34m\u001b[0m\u001b[0;34m\u001b[0m\u001b[0m\n",
      "\u001b[0;32m~/anaconda3/envs/pytorch_p39/lib/python3.9/site-packages/torch/optim/optimizer.py\u001b[0m in \u001b[0;36m_use_grad\u001b[0;34m(self, *args, **kwargs)\u001b[0m\n\u001b[1;32m     21\u001b[0m         \u001b[0;32mtry\u001b[0m\u001b[0;34m:\u001b[0m\u001b[0;34m\u001b[0m\u001b[0;34m\u001b[0m\u001b[0m\n\u001b[1;32m     22\u001b[0m             \u001b[0mtorch\u001b[0m\u001b[0;34m.\u001b[0m\u001b[0mset_grad_enabled\u001b[0m\u001b[0;34m(\u001b[0m\u001b[0mself\u001b[0m\u001b[0;34m.\u001b[0m\u001b[0mdefaults\u001b[0m\u001b[0;34m[\u001b[0m\u001b[0;34m'differentiable'\u001b[0m\u001b[0;34m]\u001b[0m\u001b[0;34m)\u001b[0m\u001b[0;34m\u001b[0m\u001b[0;34m\u001b[0m\u001b[0m\n\u001b[0;32m---> 23\u001b[0;31m             \u001b[0mret\u001b[0m \u001b[0;34m=\u001b[0m \u001b[0mfunc\u001b[0m\u001b[0;34m(\u001b[0m\u001b[0mself\u001b[0m\u001b[0;34m,\u001b[0m \u001b[0;34m*\u001b[0m\u001b[0margs\u001b[0m\u001b[0;34m,\u001b[0m \u001b[0;34m**\u001b[0m\u001b[0mkwargs\u001b[0m\u001b[0;34m)\u001b[0m\u001b[0;34m\u001b[0m\u001b[0;34m\u001b[0m\u001b[0m\n\u001b[0m\u001b[1;32m     24\u001b[0m         \u001b[0;32mfinally\u001b[0m\u001b[0;34m:\u001b[0m\u001b[0;34m\u001b[0m\u001b[0;34m\u001b[0m\u001b[0m\n\u001b[1;32m     25\u001b[0m             \u001b[0mtorch\u001b[0m\u001b[0;34m.\u001b[0m\u001b[0mset_grad_enabled\u001b[0m\u001b[0;34m(\u001b[0m\u001b[0mprev_grad\u001b[0m\u001b[0;34m)\u001b[0m\u001b[0;34m\u001b[0m\u001b[0;34m\u001b[0m\u001b[0m\n",
      "\u001b[0;32m~/anaconda3/envs/pytorch_p39/lib/python3.9/site-packages/torch/optim/adam.py\u001b[0m in \u001b[0;36mstep\u001b[0;34m(self, closure, grad_scaler)\u001b[0m\n\u001b[1;32m    232\u001b[0m                     \u001b[0mstate_steps\u001b[0m\u001b[0;34m.\u001b[0m\u001b[0mappend\u001b[0m\u001b[0;34m(\u001b[0m\u001b[0mstate\u001b[0m\u001b[0;34m[\u001b[0m\u001b[0;34m'step'\u001b[0m\u001b[0;34m]\u001b[0m\u001b[0;34m)\u001b[0m\u001b[0;34m\u001b[0m\u001b[0;34m\u001b[0m\u001b[0m\n\u001b[1;32m    233\u001b[0m \u001b[0;34m\u001b[0m\u001b[0m\n\u001b[0;32m--> 234\u001b[0;31m             adam(params_with_grad,\n\u001b[0m\u001b[1;32m    235\u001b[0m                  \u001b[0mgrads\u001b[0m\u001b[0;34m,\u001b[0m\u001b[0;34m\u001b[0m\u001b[0;34m\u001b[0m\u001b[0m\n\u001b[1;32m    236\u001b[0m                  \u001b[0mexp_avgs\u001b[0m\u001b[0;34m,\u001b[0m\u001b[0;34m\u001b[0m\u001b[0;34m\u001b[0m\u001b[0m\n",
      "\u001b[0;32m~/anaconda3/envs/pytorch_p39/lib/python3.9/site-packages/torch/optim/adam.py\u001b[0m in \u001b[0;36madam\u001b[0;34m(params, grads, exp_avgs, exp_avg_sqs, max_exp_avg_sqs, state_steps, foreach, capturable, differentiable, fused, grad_scale, found_inf, amsgrad, beta1, beta2, lr, weight_decay, eps, maximize)\u001b[0m\n\u001b[1;32m    298\u001b[0m         \u001b[0mfunc\u001b[0m \u001b[0;34m=\u001b[0m \u001b[0m_single_tensor_adam\u001b[0m\u001b[0;34m\u001b[0m\u001b[0;34m\u001b[0m\u001b[0m\n\u001b[1;32m    299\u001b[0m \u001b[0;34m\u001b[0m\u001b[0m\n\u001b[0;32m--> 300\u001b[0;31m     func(params,\n\u001b[0m\u001b[1;32m    301\u001b[0m          \u001b[0mgrads\u001b[0m\u001b[0;34m,\u001b[0m\u001b[0;34m\u001b[0m\u001b[0;34m\u001b[0m\u001b[0m\n\u001b[1;32m    302\u001b[0m          \u001b[0mexp_avgs\u001b[0m\u001b[0;34m,\u001b[0m\u001b[0;34m\u001b[0m\u001b[0;34m\u001b[0m\u001b[0m\n",
      "\u001b[0;32m~/anaconda3/envs/pytorch_p39/lib/python3.9/site-packages/torch/optim/adam.py\u001b[0m in \u001b[0;36m_single_tensor_adam\u001b[0;34m(params, grads, exp_avgs, exp_avg_sqs, max_exp_avg_sqs, state_steps, grad_scale, found_inf, amsgrad, beta1, beta2, lr, weight_decay, eps, maximize, capturable, differentiable)\u001b[0m\n\u001b[1;32m    408\u001b[0m                 \u001b[0mdenom\u001b[0m \u001b[0;34m=\u001b[0m \u001b[0;34m(\u001b[0m\u001b[0mmax_exp_avg_sqs\u001b[0m\u001b[0;34m[\u001b[0m\u001b[0mi\u001b[0m\u001b[0;34m]\u001b[0m\u001b[0;34m.\u001b[0m\u001b[0msqrt\u001b[0m\u001b[0;34m(\u001b[0m\u001b[0;34m)\u001b[0m \u001b[0;34m/\u001b[0m \u001b[0mbias_correction2_sqrt\u001b[0m\u001b[0;34m)\u001b[0m\u001b[0;34m.\u001b[0m\u001b[0madd_\u001b[0m\u001b[0;34m(\u001b[0m\u001b[0meps\u001b[0m\u001b[0;34m)\u001b[0m\u001b[0;34m\u001b[0m\u001b[0;34m\u001b[0m\u001b[0m\n\u001b[1;32m    409\u001b[0m             \u001b[0;32melse\u001b[0m\u001b[0;34m:\u001b[0m\u001b[0;34m\u001b[0m\u001b[0;34m\u001b[0m\u001b[0m\n\u001b[0;32m--> 410\u001b[0;31m                 \u001b[0mdenom\u001b[0m \u001b[0;34m=\u001b[0m \u001b[0;34m(\u001b[0m\u001b[0mexp_avg_sq\u001b[0m\u001b[0;34m.\u001b[0m\u001b[0msqrt\u001b[0m\u001b[0;34m(\u001b[0m\u001b[0;34m)\u001b[0m \u001b[0;34m/\u001b[0m \u001b[0mbias_correction2_sqrt\u001b[0m\u001b[0;34m)\u001b[0m\u001b[0;34m.\u001b[0m\u001b[0madd_\u001b[0m\u001b[0;34m(\u001b[0m\u001b[0meps\u001b[0m\u001b[0;34m)\u001b[0m\u001b[0;34m\u001b[0m\u001b[0;34m\u001b[0m\u001b[0m\n\u001b[0m\u001b[1;32m    411\u001b[0m \u001b[0;34m\u001b[0m\u001b[0m\n\u001b[1;32m    412\u001b[0m             \u001b[0mparam\u001b[0m\u001b[0;34m.\u001b[0m\u001b[0maddcdiv_\u001b[0m\u001b[0;34m(\u001b[0m\u001b[0mexp_avg\u001b[0m\u001b[0;34m,\u001b[0m \u001b[0mdenom\u001b[0m\u001b[0;34m,\u001b[0m \u001b[0mvalue\u001b[0m\u001b[0;34m=\u001b[0m\u001b[0;34m-\u001b[0m\u001b[0mstep_size\u001b[0m\u001b[0;34m)\u001b[0m\u001b[0;34m\u001b[0m\u001b[0;34m\u001b[0m\u001b[0m\n",
      "\u001b[0;31mKeyboardInterrupt\u001b[0m: "
     ]
    }
   ],
   "source": [
    "# Load training data\n",
    "train = pd.read_csv('./model_input/train.csv')\n",
    "# Split into folds for cross validation - we used the same split for all the models we trained!\n",
    "folds = train.merge(\n",
    "    pd.read_csv(\"./model_input/validation_data.csv\")[[\"image_id\", \"fold\"]], on=\"image_id\")\n",
    "\n",
    "if __name__ == '__main__':\n",
    "    main()"
   ]
  },
  {
   "cell_type": "code",
   "execution_count": 15,
   "metadata": {
    "id": "-_AHOMqZQej_",
    "tags": []
   },
   "outputs": [],
   "source": [
    "# ====================================================\n",
    "# main function\n",
    "# ====================================================\n",
    "\n",
    "def main():\n",
    "\n",
    "    def get_result(result_df):\n",
    "        preds = result_df['preds'].values\n",
    "        labels = result_df[CFG.target_col].values\n",
    "        score = get_score(labels, preds)\n",
    "        LOGGER.info(f'Score: {score:<.5f}')\n",
    "    \n",
    "    oof_df = pd.DataFrame()\n",
    "    for fold in range(2, CFG.n_fold):\n",
    "        if fold in CFG.trn_fold:\n",
    "            _oof_df = train_loop(folds, fold)\n",
    "            oof_df = pd.concat([oof_df, _oof_df])\n",
    "            LOGGER.info(f\"========== fold: {fold} result ==========\")\n",
    "            get_result(_oof_df)\n",
    "    LOGGER.info(f\"========== CV ==========\")\n",
    "    get_result(oof_df)\n",
    "    oof_df.to_csv(OUTPUT_DIR+'oof_df.csv', index=False)"
   ]
  },
  {
   "cell_type": "code",
   "execution_count": null,
   "metadata": {
    "tags": []
   },
   "outputs": [
    {
     "name": "stderr",
     "output_type": "stream",
     "text": [
      "========== fold: 2 training ==========\n"
     ]
    },
    {
     "name": "stdout",
     "output_type": "stream",
     "text": [
      "Epoch: [1][0/1086] Data 0.630 (0.630) Elapsed 0m 1s (remain 31m 21s) Loss: 1.5923(1.5923) Grad: 12.9974  \n",
      "Epoch: [1][100/1086] Data 0.000 (0.006) Elapsed 1m 52s (remain 18m 19s) Loss: 1.0544(1.1423) Grad: 4.8015  \n",
      "Epoch: [1][200/1086] Data 0.000 (0.003) Elapsed 3m 44s (remain 16m 26s) Loss: 0.6551(1.0036) Grad: 3.8610  \n",
      "Epoch: [1][300/1086] Data 0.000 (0.002) Elapsed 5m 35s (remain 14m 34s) Loss: 0.6852(0.9355) Grad: 5.0368  \n",
      "Epoch: [1][400/1086] Data 0.000 (0.002) Elapsed 7m 27s (remain 12m 44s) Loss: 0.9020(0.8854) Grad: 9.9956  \n",
      "Epoch: [1][500/1086] Data 0.000 (0.002) Elapsed 9m 23s (remain 10m 57s) Loss: 0.9796(0.8519) Grad: 15.0070  \n",
      "Epoch: [1][600/1086] Data 0.000 (0.001) Elapsed 11m 21s (remain 9m 10s) Loss: 0.4605(0.8178) Grad: 4.2032  \n",
      "Epoch: [1][700/1086] Data 0.000 (0.001) Elapsed 13m 16s (remain 7m 17s) Loss: 0.5054(0.7836) Grad: 5.3356  \n",
      "Epoch: [1][800/1086] Data 0.000 (0.001) Elapsed 15m 7s (remain 5m 22s) Loss: 0.6997(0.7555) Grad: 10.5782  \n",
      "Epoch: [1][900/1086] Data 0.000 (0.001) Elapsed 16m 59s (remain 3m 29s) Loss: 0.5370(0.7314) Grad: 8.5181  \n",
      "Epoch: [1][1000/1086] Data 0.000 (0.001) Elapsed 18m 50s (remain 1m 35s) Loss: 0.9624(0.7111) Grad: 6.8404  \n",
      "Epoch: [1][1085/1086] Data 0.000 (0.001) Elapsed 20m 25s (remain 0m 0s) Loss: 0.3253(0.6981) Grad: 4.4004  \n",
      "EVAL: [0/251] Data 0.505 (0.505) Elapsed 0m 0s (remain 3m 16s) Loss: 0.9101(0.9101) \n",
      "EVAL: [100/251] Data 0.000 (0.005) Elapsed 0m 29s (remain 0m 43s) Loss: 0.5421(0.4795) \n",
      "EVAL: [200/251] Data 0.000 (0.003) Elapsed 0m 57s (remain 0m 14s) Loss: 0.7726(0.4906) \n"
     ]
    },
    {
     "name": "stderr",
     "output_type": "stream",
     "text": [
      "Epoch 1 - avg_train_loss: 0.6981  avg_val_loss: 0.4893  time: 1297s\n",
      "Epoch 1 - Accuracy: 0.8293472845042352\n",
      "Epoch 1 - Save Best Score: 0.8293 Model\n"
     ]
    },
    {
     "name": "stdout",
     "output_type": "stream",
     "text": [
      "EVAL: [250/251] Data 0.000 (0.002) Elapsed 1m 12s (remain 0m 0s) Loss: 0.5870(0.4893) \n",
      "Epoch: [2][0/1086] Data 0.538 (0.538) Elapsed 0m 1s (remain 30m 12s) Loss: 0.5739(0.5739) Grad: 7.1899  \n",
      "Epoch: [2][100/1086] Data 0.000 (0.006) Elapsed 1m 58s (remain 19m 14s) Loss: 0.3229(0.5365) Grad: 4.3420  \n",
      "Epoch: [2][200/1086] Data 0.000 (0.003) Elapsed 3m 57s (remain 17m 23s) Loss: 0.9912(0.5427) Grad: 11.3664  \n",
      "Epoch: [2][300/1086] Data 0.000 (0.002) Elapsed 5m 49s (remain 15m 11s) Loss: 0.5468(0.5212) Grad: 7.5304  \n",
      "Epoch: [2][400/1086] Data 0.000 (0.002) Elapsed 7m 41s (remain 13m 8s) Loss: 0.5554(0.5147) Grad: 5.4555  \n",
      "Epoch: [2][500/1086] Data 0.000 (0.001) Elapsed 9m 36s (remain 11m 13s) Loss: 0.3149(0.5142) Grad: 4.2823  \n",
      "Epoch: [2][600/1086] Data 0.000 (0.001) Elapsed 11m 34s (remain 9m 20s) Loss: 0.6114(0.5170) Grad: 7.9084  \n",
      "Epoch: [2][700/1086] Data 0.000 (0.001) Elapsed 13m 32s (remain 7m 26s) Loss: 0.5420(0.5140) Grad: 5.5585  \n",
      "Epoch: [2][800/1086] Data 0.000 (0.001) Elapsed 15m 24s (remain 5m 29s) Loss: 0.8926(0.5075) Grad: 7.0946  \n",
      "Epoch: [2][900/1086] Data 0.000 (0.001) Elapsed 17m 16s (remain 3m 32s) Loss: 0.1764(0.5061) Grad: 2.1926  \n",
      "Epoch: [2][1000/1086] Data 0.000 (0.001) Elapsed 19m 12s (remain 1m 37s) Loss: 0.5534(0.4997) Grad: 6.0990  \n",
      "Epoch: [2][1085/1086] Data 0.000 (0.001) Elapsed 20m 53s (remain 0m 0s) Loss: 0.8457(0.5008) Grad: 6.7807  \n",
      "EVAL: [0/251] Data 0.463 (0.463) Elapsed 0m 0s (remain 3m 9s) Loss: 0.5941(0.5941) \n",
      "EVAL: [100/251] Data 0.000 (0.005) Elapsed 0m 30s (remain 0m 45s) Loss: 0.6093(0.4183) \n",
      "EVAL: [200/251] Data 0.000 (0.003) Elapsed 1m 0s (remain 0m 15s) Loss: 0.6867(0.4307) \n"
     ]
    },
    {
     "name": "stderr",
     "output_type": "stream",
     "text": [
      "Epoch 2 - avg_train_loss: 0.5008  avg_val_loss: 0.4295  time: 1329s\n",
      "Epoch 2 - Accuracy: 0.8515196811160937\n",
      "Epoch 2 - Save Best Score: 0.8515 Model\n"
     ]
    },
    {
     "name": "stdout",
     "output_type": "stream",
     "text": [
      "EVAL: [250/251] Data 0.000 (0.002) Elapsed 1m 15s (remain 0m 0s) Loss: 0.3661(0.4295) \n",
      "Epoch: [3][0/1086] Data 0.538 (0.538) Elapsed 0m 1s (remain 30m 54s) Loss: 0.4875(0.4875) Grad: 5.5275  \n",
      "Epoch: [3][100/1086] Data 0.000 (0.006) Elapsed 1m 59s (remain 19m 27s) Loss: 0.6809(0.4230) Grad: 6.9744  \n",
      "Epoch: [3][200/1086] Data 0.000 (0.003) Elapsed 3m 54s (remain 17m 13s) Loss: 0.5473(0.4558) Grad: 6.0309  \n",
      "Epoch: [3][300/1086] Data 0.000 (0.002) Elapsed 5m 46s (remain 15m 2s) Loss: 0.4417(0.4523) Grad: 3.4208  \n",
      "Epoch: [3][400/1086] Data 0.000 (0.002) Elapsed 7m 39s (remain 13m 4s) Loss: 0.4337(0.4589) Grad: 3.8971  \n",
      "Epoch: [3][500/1086] Data 0.000 (0.001) Elapsed 9m 37s (remain 11m 13s) Loss: 0.4857(0.4665) Grad: 5.1843  \n",
      "Epoch: [3][600/1086] Data 0.000 (0.001) Elapsed 11m 35s (remain 9m 21s) Loss: 0.5634(0.4596) Grad: 5.8224  \n",
      "Epoch: [3][700/1086] Data 0.000 (0.001) Elapsed 13m 33s (remain 7m 27s) Loss: 0.3460(0.4588) Grad: 3.9686  \n",
      "Epoch: [3][800/1086] Data 0.000 (0.001) Elapsed 15m 27s (remain 5m 29s) Loss: 0.2806(0.4591) Grad: 4.1783  \n",
      "Epoch: [3][900/1086] Data 0.000 (0.001) Elapsed 17m 18s (remain 3m 33s) Loss: 0.4528(0.4591) Grad: 7.7156  \n",
      "Epoch: [3][1000/1086] Data 0.000 (0.001) Elapsed 19m 10s (remain 1m 37s) Loss: 0.4388(0.4551) Grad: 4.5940  \n",
      "Epoch: [3][1085/1086] Data 0.000 (0.001) Elapsed 20m 45s (remain 0m 0s) Loss: 0.4554(0.4523) Grad: 6.1469  \n",
      "EVAL: [0/251] Data 0.534 (0.534) Elapsed 0m 0s (remain 3m 24s) Loss: 0.7533(0.7533) \n",
      "EVAL: [100/251] Data 0.000 (0.006) Elapsed 0m 29s (remain 0m 44s) Loss: 0.4274(0.3949) \n",
      "EVAL: [200/251] Data 0.000 (0.003) Elapsed 0m 58s (remain 0m 14s) Loss: 0.7544(0.4054) \n"
     ]
    },
    {
     "name": "stderr",
     "output_type": "stream",
     "text": [
      "Epoch 3 - avg_train_loss: 0.4523  avg_val_loss: 0.4060  time: 1319s\n",
      "Epoch 3 - Accuracy: 0.8644743398106627\n",
      "Epoch 3 - Save Best Score: 0.8645 Model\n"
     ]
    },
    {
     "name": "stdout",
     "output_type": "stream",
     "text": [
      "EVAL: [250/251] Data 0.000 (0.002) Elapsed 1m 13s (remain 0m 0s) Loss: 0.3251(0.4060) \n",
      "Epoch: [4][0/1086] Data 0.561 (0.561) Elapsed 0m 1s (remain 31m 8s) Loss: 0.1438(0.1438) Grad: 2.2876  \n",
      "Epoch: [4][100/1086] Data 0.000 (0.006) Elapsed 1m 59s (remain 19m 29s) Loss: 0.2888(0.4618) Grad: 3.3707  \n",
      "Epoch: [4][200/1086] Data 0.000 (0.003) Elapsed 3m 58s (remain 17m 29s) Loss: 0.1197(0.4251) Grad: 3.4729  \n",
      "Epoch: [4][300/1086] Data 0.000 (0.002) Elapsed 5m 56s (remain 15m 30s) Loss: 0.2615(0.4395) Grad: 4.0587  \n",
      "Epoch: [4][400/1086] Data 0.000 (0.002) Elapsed 7m 55s (remain 13m 31s) Loss: 0.5511(0.4332) Grad: 6.1129  \n",
      "Epoch: [4][500/1086] Data 0.000 (0.001) Elapsed 9m 47s (remain 11m 26s) Loss: 0.5073(0.4314) Grad: 5.3583  \n",
      "Epoch: [4][600/1086] Data 0.000 (0.001) Elapsed 11m 39s (remain 9m 24s) Loss: 0.7720(0.4258) Grad: 7.2849  \n",
      "Epoch: [4][700/1086] Data 0.000 (0.001) Elapsed 13m 32s (remain 7m 26s) Loss: 0.5841(0.4239) Grad: 4.5610  \n",
      "Epoch: [4][800/1086] Data 0.000 (0.001) Elapsed 15m 24s (remain 5m 28s) Loss: 0.2408(0.4284) Grad: 3.7152  \n",
      "Epoch: [4][900/1086] Data 0.000 (0.001) Elapsed 17m 16s (remain 3m 32s) Loss: 0.4301(0.4259) Grad: 4.3513  \n",
      "Epoch: [4][1000/1086] Data 0.000 (0.001) Elapsed 19m 12s (remain 1m 37s) Loss: 0.6495(0.4286) Grad: 6.0856  \n",
      "Epoch: [4][1085/1086] Data 0.000 (0.001) Elapsed 20m 50s (remain 0m 0s) Loss: 0.2761(0.4289) Grad: 5.2029  \n",
      "EVAL: [0/251] Data 0.444 (0.444) Elapsed 0m 0s (remain 3m 0s) Loss: 0.4986(0.4986) \n",
      "EVAL: [100/251] Data 0.000 (0.005) Elapsed 0m 28s (remain 0m 42s) Loss: 0.2086(0.3665) \n",
      "EVAL: [200/251] Data 0.000 (0.002) Elapsed 0m 57s (remain 0m 14s) Loss: 0.5721(0.3755) \n"
     ]
    },
    {
     "name": "stderr",
     "output_type": "stream",
     "text": [
      "Epoch 4 - avg_train_loss: 0.4289  avg_val_loss: 0.3779  time: 1321s\n",
      "Epoch 4 - Accuracy: 0.8709516691579472\n",
      "Epoch 4 - Save Best Score: 0.8710 Model\n"
     ]
    },
    {
     "name": "stdout",
     "output_type": "stream",
     "text": [
      "EVAL: [250/251] Data 0.000 (0.002) Elapsed 1m 11s (remain 0m 0s) Loss: 0.3266(0.3779) \n",
      "Epoch: [5][0/1086] Data 0.499 (0.499) Elapsed 0m 1s (remain 29m 3s) Loss: 0.2145(0.2145) Grad: 2.5577  \n",
      "Epoch: [5][100/1086] Data 0.000 (0.005) Elapsed 1m 53s (remain 18m 31s) Loss: 0.4265(0.4319) Grad: 6.0398  \n",
      "Epoch: [5][200/1086] Data 0.000 (0.003) Elapsed 3m 50s (remain 16m 53s) Loss: 0.3690(0.4280) Grad: 4.3648  \n",
      "Epoch: [5][300/1086] Data 0.000 (0.002) Elapsed 5m 48s (remain 15m 9s) Loss: 0.3359(0.4187) Grad: 4.5717  \n",
      "Epoch: [5][400/1086] Data 0.000 (0.002) Elapsed 7m 46s (remain 13m 17s) Loss: 0.1199(0.4147) Grad: 1.7226  \n",
      "Epoch: [5][500/1086] Data 0.000 (0.001) Elapsed 9m 38s (remain 11m 15s) Loss: 0.4136(0.4136) Grad: 5.0708  \n",
      "Epoch: [5][600/1086] Data 0.000 (0.001) Elapsed 11m 30s (remain 9m 17s) Loss: 0.3261(0.4069) Grad: 4.2578  \n",
      "Epoch: [5][700/1086] Data 0.000 (0.001) Elapsed 13m 25s (remain 7m 22s) Loss: 0.5109(0.4078) Grad: 4.8586  \n",
      "Epoch: [5][800/1086] Data 0.000 (0.001) Elapsed 15m 23s (remain 5m 28s) Loss: 0.3406(0.4086) Grad: 2.4105  \n",
      "Epoch: [5][900/1086] Data 0.000 (0.001) Elapsed 17m 22s (remain 3m 33s) Loss: 0.4824(0.4122) Grad: 4.7445  \n",
      "Epoch: [5][1000/1086] Data 0.000 (0.001) Elapsed 19m 16s (remain 1m 38s) Loss: 0.2861(0.4108) Grad: 1.6539  \n",
      "Epoch: [5][1085/1086] Data 0.000 (0.001) Elapsed 20m 51s (remain 0m 0s) Loss: 0.4288(0.4078) Grad: 4.4125  \n",
      "EVAL: [0/251] Data 0.487 (0.487) Elapsed 0m 0s (remain 3m 12s) Loss: 0.4981(0.4981) \n",
      "EVAL: [100/251] Data 0.000 (0.005) Elapsed 0m 29s (remain 0m 43s) Loss: 0.3532(0.3815) \n",
      "EVAL: [200/251] Data 0.000 (0.003) Elapsed 0m 57s (remain 0m 14s) Loss: 0.7264(0.3810) \n"
     ]
    },
    {
     "name": "stderr",
     "output_type": "stream",
     "text": [
      "Epoch 5 - avg_train_loss: 0.4078  avg_val_loss: 0.3818  time: 1323s\n",
      "Epoch 5 - Accuracy: 0.8689586447433981\n",
      "========== fold: 2 result ==========\n",
      "Score: 0.87095\n",
      "========== fold: 3 training ==========\n"
     ]
    },
    {
     "name": "stdout",
     "output_type": "stream",
     "text": [
      "EVAL: [250/251] Data 0.000 (0.002) Elapsed 1m 11s (remain 0m 0s) Loss: 0.2665(0.3818) \n",
      "Epoch: [1][0/1087] Data 0.576 (0.576) Elapsed 0m 1s (remain 30m 46s) Loss: 1.6216(1.6216) Grad: 6.7746  \n",
      "Epoch: [1][100/1087] Data 0.000 (0.006) Elapsed 1m 57s (remain 19m 2s) Loss: 0.8850(1.1823) Grad: 7.2710  \n",
      "Epoch: [1][200/1087] Data 0.000 (0.003) Elapsed 3m 55s (remain 17m 17s) Loss: 1.0218(1.0325) Grad: 8.0284  \n",
      "Epoch: [1][300/1087] Data 0.000 (0.002) Elapsed 5m 48s (remain 15m 9s) Loss: 1.4210(0.9555) Grad: 19.9200  \n",
      "Epoch: [1][400/1087] Data 0.000 (0.002) Elapsed 7m 39s (remain 13m 6s) Loss: 0.7012(0.8996) Grad: 8.6154  \n",
      "Epoch: [1][500/1087] Data 0.000 (0.001) Elapsed 9m 31s (remain 11m 8s) Loss: 0.9753(0.8536) Grad: 7.2892  \n",
      "Epoch: [1][600/1087] Data 0.000 (0.001) Elapsed 11m 23s (remain 9m 12s) Loss: 0.2570(0.8137) Grad: 3.8053  \n",
      "Epoch: [1][700/1087] Data 0.000 (0.001) Elapsed 13m 17s (remain 7m 18s) Loss: 0.3630(0.7781) Grad: 5.6457  \n",
      "Epoch: [1][800/1087] Data 0.000 (0.001) Elapsed 15m 15s (remain 5m 26s) Loss: 0.5017(0.7560) Grad: 5.6674  \n",
      "Epoch: [1][900/1087] Data 0.000 (0.001) Elapsed 17m 13s (remain 3m 33s) Loss: 0.5295(0.7374) Grad: 6.4079  \n",
      "Epoch: [1][1000/1087] Data 0.000 (0.001) Elapsed 19m 11s (remain 1m 38s) Loss: 0.6540(0.7153) Grad: 8.2905  \n",
      "Epoch: [1][1086/1087] Data 0.000 (0.001) Elapsed 20m 53s (remain 0m 0s) Loss: 0.2512(0.7006) Grad: 4.6025  \n",
      "EVAL: [0/251] Data 0.456 (0.456) Elapsed 0m 0s (remain 3m 8s) Loss: 0.7103(0.7103) \n",
      "EVAL: [100/251] Data 0.000 (0.005) Elapsed 0m 30s (remain 0m 45s) Loss: 0.2001(0.4473) \n",
      "EVAL: [200/251] Data 0.000 (0.003) Elapsed 1m 0s (remain 0m 14s) Loss: 0.2648(0.4522) \n"
     ]
    },
    {
     "name": "stderr",
     "output_type": "stream",
     "text": [
      "Epoch 1 - avg_train_loss: 0.7006  avg_val_loss: 0.4600  time: 1329s\n",
      "Epoch 1 - Accuracy: 0.842368223832126\n",
      "Epoch 1 - Save Best Score: 0.8424 Model\n"
     ]
    },
    {
     "name": "stdout",
     "output_type": "stream",
     "text": [
      "EVAL: [250/251] Data 0.000 (0.002) Elapsed 1m 14s (remain 0m 0s) Loss: 0.5071(0.4600) \n",
      "Epoch: [2][0/1087] Data 0.597 (0.597) Elapsed 0m 1s (remain 31m 58s) Loss: 0.5685(0.5685) Grad: 3.8201  \n",
      "Epoch: [2][100/1087] Data 0.000 (0.006) Elapsed 1m 58s (remain 19m 12s) Loss: 0.6191(0.5203) Grad: 7.4935  \n",
      "Epoch: [2][200/1087] Data 0.000 (0.003) Elapsed 3m 49s (remain 16m 51s) Loss: 0.5671(0.5127) Grad: 7.1601  \n",
      "Epoch: [2][300/1087] Data 0.000 (0.002) Elapsed 5m 42s (remain 14m 53s) Loss: 0.3186(0.5041) Grad: 4.1751  \n",
      "Epoch: [2][400/1087] Data 0.000 (0.002) Elapsed 7m 39s (remain 13m 5s) Loss: 0.4515(0.5073) Grad: 5.0024  \n",
      "Epoch: [2][500/1087] Data 0.000 (0.001) Elapsed 9m 37s (remain 11m 15s) Loss: 0.3650(0.5122) Grad: 4.9895  \n",
      "Epoch: [2][600/1087] Data 0.000 (0.001) Elapsed 11m 36s (remain 9m 22s) Loss: 0.5439(0.5105) Grad: 5.8723  \n",
      "Epoch: [2][700/1087] Data 0.000 (0.001) Elapsed 13m 34s (remain 7m 28s) Loss: 0.8773(0.5096) Grad: 8.3447  \n",
      "Epoch: [2][800/1087] Data 0.000 (0.001) Elapsed 15m 33s (remain 5m 33s) Loss: 0.4278(0.5013) Grad: 5.4228  \n",
      "Epoch: [2][900/1087] Data 0.000 (0.001) Elapsed 17m 26s (remain 3m 36s) Loss: 0.2489(0.4959) Grad: 4.4707  \n",
      "Epoch: [2][1000/1087] Data 0.000 (0.001) Elapsed 19m 18s (remain 1m 39s) Loss: 0.5729(0.4979) Grad: 5.0482  \n",
      "Epoch: [2][1086/1087] Data 0.000 (0.001) Elapsed 20m 56s (remain 0m 0s) Loss: 0.4992(0.4954) Grad: 5.9735  \n",
      "EVAL: [0/251] Data 0.525 (0.525) Elapsed 0m 0s (remain 3m 23s) Loss: 0.6132(0.6132) \n",
      "EVAL: [100/251] Data 0.000 (0.005) Elapsed 0m 30s (remain 0m 44s) Loss: 0.2589(0.3913) \n",
      "EVAL: [200/251] Data 0.000 (0.003) Elapsed 0m 59s (remain 0m 14s) Loss: 0.2073(0.3939) \n"
     ]
    },
    {
     "name": "stderr",
     "output_type": "stream",
     "text": [
      "Epoch 2 - avg_train_loss: 0.4954  avg_val_loss: 0.4028  time: 1331s\n",
      "Epoch 2 - Accuracy: 0.8656007994004496\n",
      "Epoch 2 - Save Best Score: 0.8656 Model\n"
     ]
    },
    {
     "name": "stdout",
     "output_type": "stream",
     "text": [
      "EVAL: [250/251] Data 0.000 (0.002) Elapsed 1m 14s (remain 0m 0s) Loss: 0.8962(0.4028) \n",
      "Epoch: [3][0/1087] Data 0.531 (0.531) Elapsed 0m 1s (remain 30m 42s) Loss: 0.3263(0.3263) Grad: 6.1806  \n",
      "Epoch: [3][100/1087] Data 0.000 (0.006) Elapsed 1m 59s (remain 19m 31s) Loss: 0.4814(0.4606) Grad: 5.7346  \n",
      "Epoch: [3][200/1087] Data 0.000 (0.003) Elapsed 3m 58s (remain 17m 30s) Loss: 0.5821(0.4516) Grad: 6.0021  \n",
      "Epoch: [3][300/1087] Data 0.000 (0.002) Elapsed 5m 56s (remain 15m 31s) Loss: 0.3966(0.4512) Grad: 5.0365  \n",
      "Epoch: [3][400/1087] Data 0.000 (0.002) Elapsed 7m 54s (remain 13m 32s) Loss: 0.4084(0.4446) Grad: 5.0734  \n",
      "Epoch: [3][500/1087] Data 0.000 (0.001) Elapsed 9m 48s (remain 11m 28s) Loss: 0.1181(0.4425) Grad: 1.8757  \n",
      "Epoch: [3][600/1087] Data 0.000 (0.001) Elapsed 11m 40s (remain 9m 26s) Loss: 0.5785(0.4429) Grad: 6.4335  \n",
      "Epoch: [3][700/1087] Data 0.000 (0.001) Elapsed 13m 33s (remain 7m 28s) Loss: 0.4731(0.4495) Grad: 4.0985  \n",
      "Epoch: [3][800/1087] Data 0.000 (0.001) Elapsed 15m 31s (remain 5m 32s) Loss: 0.3557(0.4497) Grad: 4.3633  \n",
      "Epoch: [3][900/1087] Data 0.000 (0.001) Elapsed 17m 29s (remain 3m 36s) Loss: 0.3827(0.4489) Grad: 2.7048  \n",
      "Epoch: [3][1000/1087] Data 0.000 (0.001) Elapsed 19m 24s (remain 1m 40s) Loss: 0.1278(0.4502) Grad: 1.7396  \n",
      "Epoch: [3][1086/1087] Data 0.000 (0.001) Elapsed 21m 0s (remain 0m 0s) Loss: 0.2702(0.4508) Grad: 4.8463  \n",
      "EVAL: [0/251] Data 0.478 (0.478) Elapsed 0m 0s (remain 3m 8s) Loss: 0.6823(0.6823) \n",
      "EVAL: [100/251] Data 0.000 (0.005) Elapsed 0m 28s (remain 0m 42s) Loss: 0.1586(0.3735) \n",
      "EVAL: [200/251] Data 0.000 (0.003) Elapsed 0m 56s (remain 0m 14s) Loss: 0.2560(0.3748) \n"
     ]
    },
    {
     "name": "stderr",
     "output_type": "stream",
     "text": [
      "Epoch 3 - avg_train_loss: 0.4508  avg_val_loss: 0.3830  time: 1331s\n",
      "Epoch 3 - Accuracy: 0.8790906819885086\n",
      "Epoch 3 - Save Best Score: 0.8791 Model\n"
     ]
    },
    {
     "name": "stdout",
     "output_type": "stream",
     "text": [
      "EVAL: [250/251] Data 0.000 (0.002) Elapsed 1m 10s (remain 0m 0s) Loss: 1.4396(0.3830) \n",
      "Epoch: [4][0/1087] Data 0.542 (0.542) Elapsed 0m 1s (remain 29m 46s) Loss: 0.2961(0.2961) Grad: 3.7309  \n",
      "Epoch: [4][100/1087] Data 0.000 (0.006) Elapsed 1m 52s (remain 18m 21s) Loss: 0.2233(0.4235) Grad: 3.2926  \n",
      "Epoch: [4][200/1087] Data 0.000 (0.003) Elapsed 3m 46s (remain 16m 37s) Loss: 0.1895(0.4221) Grad: 2.1064  \n",
      "Epoch: [4][300/1087] Data 0.000 (0.002) Elapsed 5m 43s (remain 14m 57s) Loss: 0.6817(0.4291) Grad: 7.3252  \n",
      "Epoch: [4][400/1087] Data 0.000 (0.002) Elapsed 7m 42s (remain 13m 10s) Loss: 0.3905(0.4260) Grad: 5.9250  \n",
      "Epoch: [4][500/1087] Data 0.000 (0.001) Elapsed 9m 40s (remain 11m 18s) Loss: 0.2465(0.4200) Grad: 3.4553  \n",
      "Epoch: [4][600/1087] Data 0.000 (0.001) Elapsed 11m 39s (remain 9m 25s) Loss: 0.1118(0.4218) Grad: 2.0310  \n",
      "Epoch: [4][700/1087] Data 0.000 (0.001) Elapsed 13m 37s (remain 7m 30s) Loss: 0.8139(0.4233) Grad: 7.7594  \n",
      "Epoch: [4][800/1087] Data 0.000 (0.001) Elapsed 15m 35s (remain 5m 34s) Loss: 0.2862(0.4218) Grad: 3.3108  \n",
      "Epoch: [4][900/1087] Data 0.000 (0.001) Elapsed 17m 34s (remain 3m 37s) Loss: 0.2053(0.4211) Grad: 2.9592  \n",
      "Epoch: [4][1000/1087] Data 0.000 (0.001) Elapsed 19m 32s (remain 1m 40s) Loss: 0.3463(0.4188) Grad: 3.7086  \n",
      "Epoch: [4][1086/1087] Data 0.000 (0.001) Elapsed 21m 14s (remain 0m 0s) Loss: 0.5849(0.4199) Grad: 3.8722  \n",
      "EVAL: [0/251] Data 0.489 (0.489) Elapsed 0m 0s (remain 3m 16s) Loss: 0.8015(0.8015) \n",
      "EVAL: [100/251] Data 0.000 (0.005) Elapsed 0m 30s (remain 0m 45s) Loss: 0.1984(0.3623) \n",
      "EVAL: [200/251] Data 0.000 (0.003) Elapsed 1m 0s (remain 0m 15s) Loss: 0.2707(0.3694) \n"
     ]
    },
    {
     "name": "stderr",
     "output_type": "stream",
     "text": [
      "Epoch 4 - avg_train_loss: 0.4199  avg_val_loss: 0.3750  time: 1350s\n",
      "Epoch 4 - Accuracy: 0.8780914314264302\n"
     ]
    },
    {
     "name": "stdout",
     "output_type": "stream",
     "text": [
      "EVAL: [250/251] Data 0.000 (0.002) Elapsed 1m 15s (remain 0m 0s) Loss: 1.7017(0.3750) \n",
      "Epoch: [5][0/1087] Data 0.563 (0.563) Elapsed 0m 1s (remain 31m 27s) Loss: 0.3527(0.3527) Grad: 3.2000  \n",
      "Epoch: [5][100/1087] Data 0.000 (0.006) Elapsed 1m 59s (remain 19m 31s) Loss: 0.3104(0.4646) Grad: 4.8679  \n",
      "Epoch: [5][200/1087] Data 0.000 (0.003) Elapsed 3m 58s (remain 17m 29s) Loss: 0.4660(0.4325) Grad: 3.3968  \n",
      "Epoch: [5][300/1087] Data 0.000 (0.002) Elapsed 5m 55s (remain 15m 28s) Loss: 0.1625(0.4304) Grad: 3.0178  \n",
      "Epoch: [5][400/1087] Data 0.000 (0.002) Elapsed 7m 47s (remain 13m 19s) Loss: 0.3384(0.4296) Grad: 3.8619  \n",
      "Epoch: [5][500/1087] Data 0.000 (0.001) Elapsed 9m 39s (remain 11m 17s) Loss: 0.4630(0.4279) Grad: 5.9403  \n",
      "Epoch: [5][600/1087] Data 0.000 (0.001) Elapsed 11m 34s (remain 9m 21s) Loss: 0.5886(0.4193) Grad: 4.4754  \n",
      "Epoch: [5][700/1087] Data 0.000 (0.001) Elapsed 13m 33s (remain 7m 27s) Loss: 0.3647(0.4193) Grad: 4.4584  \n",
      "Epoch: [5][800/1087] Data 0.000 (0.001) Elapsed 15m 31s (remain 5m 32s) Loss: 0.3880(0.4174) Grad: 4.4246  \n",
      "Epoch: [5][900/1087] Data 0.000 (0.001) Elapsed 17m 28s (remain 3m 36s) Loss: 0.5181(0.4118) Grad: 4.9059  \n",
      "Epoch: [5][1000/1087] Data 0.000 (0.001) Elapsed 19m 19s (remain 1m 39s) Loss: 0.3411(0.4107) Grad: 4.3211  \n",
      "Epoch: [5][1086/1087] Data 0.000 (0.001) Elapsed 20m 55s (remain 0m 0s) Loss: 0.6707(0.4086) Grad: 6.1357  \n",
      "EVAL: [0/251] Data 0.441 (0.441) Elapsed 0m 0s (remain 3m 0s) Loss: 0.7835(0.7835) \n",
      "EVAL: [100/251] Data 0.000 (0.005) Elapsed 0m 29s (remain 0m 43s) Loss: 0.2449(0.3779) \n",
      "EVAL: [200/251] Data 0.000 (0.002) Elapsed 0m 57s (remain 0m 14s) Loss: 0.3453(0.3778) \n"
     ]
    },
    {
     "name": "stderr",
     "output_type": "stream",
     "text": [
      "Epoch 5 - avg_train_loss: 0.4086  avg_val_loss: 0.3847  time: 1327s\n",
      "Epoch 5 - Accuracy: 0.874344241818636\n",
      "========== fold: 3 result ==========\n",
      "Score: 0.87909\n",
      "========== fold: 4 training ==========\n"
     ]
    },
    {
     "name": "stdout",
     "output_type": "stream",
     "text": [
      "EVAL: [250/251] Data 0.000 (0.002) Elapsed 1m 11s (remain 0m 0s) Loss: 1.1576(0.3847) \n",
      "Epoch: [1][0/1086] Data 0.601 (0.601) Elapsed 0m 1s (remain 31m 20s) Loss: 1.5949(1.5949) Grad: 14.6246  \n",
      "Epoch: [1][100/1086] Data 0.000 (0.006) Elapsed 1m 57s (remain 19m 4s) Loss: 0.6328(1.1137) Grad: 4.0355  \n",
      "Epoch: [1][200/1086] Data 0.000 (0.003) Elapsed 3m 55s (remain 17m 18s) Loss: 0.6137(0.9797) Grad: 9.8800  \n",
      "Epoch: [1][300/1086] Data 0.000 (0.002) Elapsed 5m 54s (remain 15m 23s) Loss: 0.9533(0.9253) Grad: 4.6046  \n",
      "Epoch: [1][400/1086] Data 0.000 (0.002) Elapsed 7m 46s (remain 13m 16s) Loss: 0.7164(0.8696) Grad: 7.7127  \n",
      "Epoch: [1][500/1086] Data 0.000 (0.001) Elapsed 9m 38s (remain 11m 15s) Loss: 0.5744(0.8348) Grad: 7.1837  \n",
      "Epoch: [1][600/1086] Data 0.000 (0.001) Elapsed 11m 32s (remain 9m 18s) Loss: 0.8646(0.7971) Grad: 16.3433  \n",
      "Epoch: [1][700/1086] Data 0.000 (0.001) Elapsed 13m 30s (remain 7m 24s) Loss: 0.5005(0.7653) Grad: 5.8938  \n",
      "Epoch: [1][800/1086] Data 0.000 (0.001) Elapsed 15m 29s (remain 5m 30s) Loss: 0.5175(0.7411) Grad: 5.9688  \n",
      "Epoch: [1][900/1086] Data 0.000 (0.001) Elapsed 17m 27s (remain 3m 35s) Loss: 0.8137(0.7209) Grad: 9.8383  \n",
      "Epoch: [1][1000/1086] Data 0.000 (0.001) Elapsed 19m 26s (remain 1m 39s) Loss: 0.6217(0.7066) Grad: 7.5366  \n",
      "Epoch: [1][1085/1086] Data 0.000 (0.001) Elapsed 21m 7s (remain 0m 0s) Loss: 0.1859(0.6934) Grad: 3.5846  \n",
      "EVAL: [0/251] Data 0.481 (0.481) Elapsed 0m 0s (remain 3m 14s) Loss: 0.2599(0.2599) \n",
      "EVAL: [100/251] Data 0.000 (0.005) Elapsed 0m 30s (remain 0m 45s) Loss: 0.7768(0.3883) \n",
      "EVAL: [200/251] Data 0.000 (0.003) Elapsed 1m 0s (remain 0m 15s) Loss: 0.5893(0.4086) \n"
     ]
    },
    {
     "name": "stderr",
     "output_type": "stream",
     "text": [
      "Epoch 1 - avg_train_loss: 0.6934  avg_val_loss: 0.4150  time: 1343s\n",
      "Epoch 1 - Accuracy: 0.8560039860488291\n",
      "Epoch 1 - Save Best Score: 0.8560 Model\n"
     ]
    },
    {
     "name": "stdout",
     "output_type": "stream",
     "text": [
      "EVAL: [250/251] Data 0.000 (0.002) Elapsed 1m 15s (remain 0m 0s) Loss: 0.0987(0.4150) \n",
      "Epoch: [2][0/1086] Data 0.561 (0.561) Elapsed 0m 1s (remain 31m 18s) Loss: 0.3545(0.3545) Grad: 4.1470  \n",
      "Epoch: [2][100/1086] Data 0.000 (0.006) Elapsed 2m 0s (remain 19m 31s) Loss: 0.3135(0.5287) Grad: 3.7046  \n",
      "Epoch: [2][200/1086] Data 0.000 (0.003) Elapsed 3m 58s (remain 17m 29s) Loss: 0.2336(0.5177) Grad: 2.6522  \n",
      "Epoch: [2][300/1086] Data 0.000 (0.002) Elapsed 5m 56s (remain 15m 30s) Loss: 0.5270(0.5195) Grad: 7.5564  \n",
      "Epoch: [2][400/1086] Data 0.000 (0.002) Elapsed 7m 55s (remain 13m 32s) Loss: 0.2338(0.5169) Grad: 4.1509  \n",
      "Epoch: [2][500/1086] Data 0.000 (0.001) Elapsed 9m 54s (remain 11m 33s) Loss: 0.5108(0.5167) Grad: 7.2460  \n",
      "Epoch: [2][600/1086] Data 0.000 (0.001) Elapsed 11m 52s (remain 9m 35s) Loss: 0.7141(0.5063) Grad: 10.3773  \n",
      "Epoch: [2][700/1086] Data 0.000 (0.001) Elapsed 13m 50s (remain 7m 36s) Loss: 0.2545(0.5015) Grad: 4.6719  \n",
      "Epoch: [2][800/1086] Data 0.000 (0.001) Elapsed 15m 49s (remain 5m 37s) Loss: 0.5238(0.4968) Grad: 6.6512  \n",
      "Epoch: [2][900/1086] Data 0.000 (0.001) Elapsed 17m 47s (remain 3m 39s) Loss: 0.5114(0.4949) Grad: 7.0525  \n"
     ]
    }
   ],
   "source": [
    "# Load training data\n",
    "train = pd.read_csv('./model_input/train.csv')\n",
    "# Split into folds for cross validation - we used the same split for all the models we trained!\n",
    "folds = train.merge(\n",
    "    pd.read_csv(\"./model_input/validation_data.csv\")[[\"image_id\", \"fold\"]], on=\"image_id\")\n",
    "\n",
    "if __name__ == '__main__':\n",
    "    main()"
   ]
  },
  {
   "cell_type": "code",
   "execution_count": null,
   "metadata": {},
   "outputs": [],
   "source": []
  }
 ],
 "metadata": {
  "colab": {
   "provenance": []
  },
  "kernelspec": {
   "display_name": "conda_pytorch_p39",
   "language": "python",
   "name": "conda_pytorch_p39"
  },
  "language_info": {
   "codemirror_mode": {
    "name": "ipython",
    "version": 3
   },
   "file_extension": ".py",
   "mimetype": "text/x-python",
   "name": "python",
   "nbconvert_exporter": "python",
   "pygments_lexer": "ipython3",
   "version": "3.9.15"
  }
 },
 "nbformat": 4,
 "nbformat_minor": 4
}
